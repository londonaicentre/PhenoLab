{
 "cells": [
  {
   "cell_type": "code",
   "execution_count": null,
   "id": "ea48582e",
   "metadata": {},
   "outputs": [
    {
     "ename": "FileNotFoundError",
     "evalue": "[Errno 2] No such file or directory",
     "output_type": "error",
     "traceback": [
      "\u001b[31m---------------------------------------------------------------------------\u001b[39m",
      "\u001b[31mFileNotFoundError\u001b[39m                         Traceback (most recent call last)",
      "\u001b[36mCell\u001b[39m\u001b[36m \u001b[39m\u001b[32mIn[98]\u001b[39m\u001b[32m, line 5\u001b[39m\n\u001b[32m      2\u001b[39m \u001b[38;5;28;01mimport\u001b[39;00m\u001b[38;5;250m \u001b[39m\u001b[34;01mos\u001b[39;00m\n\u001b[32m      4\u001b[39m \u001b[38;5;66;03m# Get the path of the current notebook's directory and append the parent directory to the path\u001b[39;00m\n\u001b[32m----> \u001b[39m\u001b[32m5\u001b[39m sys.path.append(os.path.abspath(os.path.join(\u001b[43mos\u001b[49m\u001b[43m.\u001b[49m\u001b[43mgetcwd\u001b[49m\u001b[43m(\u001b[49m\u001b[43m)\u001b[49m, \u001b[33m'\u001b[39m\u001b[33m..\u001b[39m\u001b[33m'\u001b[39m)))\n\u001b[32m      7\u001b[39m \u001b[38;5;28;01mimport\u001b[39;00m\u001b[38;5;250m \u001b[39m\u001b[34;01mimportlib\u001b[39;00m\n\u001b[32m      9\u001b[39m \u001b[38;5;28;01mimport\u001b[39;00m\u001b[38;5;250m \u001b[39m\u001b[34;01mpdc_functions\u001b[39;00m\u001b[34;01m.\u001b[39;00m\u001b[34;01massumption_utils\u001b[39;00m\u001b[38;5;250m \u001b[39m\u001b[38;5;28;01mas\u001b[39;00m\u001b[38;5;250m \u001b[39m\u001b[34;01massumptions\u001b[39;00m\n",
      "\u001b[31mFileNotFoundError\u001b[39m: [Errno 2] No such file or directory"
     ]
    }
   ],
   "source": [
    "import sys\n",
    "import os\n",
    "\n",
    "# Get the path of the current notebook's directory and append the parent directory to the path\n",
    "sys.path.append(os.path.abspath(os.path.join(os.getcwd(), '..')))\n",
    "\n",
    "import importlib\n",
    "\n",
    "import pdc_functions.assumption_utils as assumptions\n",
    "import pdc_functions.data_utils as data\n",
    "import pdc_functions.explore_utils as explore\n",
    "import pdc_functions.pdc_1and2_utils as pdc\n",
    "import pdc_functions.stats_utils as stats\n",
    "from dotenv import load_dotenv\n",
    "import pdc_functions.class_utils as class_utils\n",
    "import pandas as pd\n",
    "\n",
    "\n",
    "from phmlondon.snow_utils import SnowflakeConnection\n"
   ]
  },
  {
   "cell_type": "code",
   "execution_count": 105,
   "id": "0e372b12",
   "metadata": {},
   "outputs": [
    {
     "data": {
      "text/plain": [
       "<module 'pdc_functions.stats_utils' from '/Users/jsaund/Documents/repos/onelondon_snowflake_datascience/projects/meds_compliance/pdc_functions/stats_utils.py'>"
      ]
     },
     "execution_count": 105,
     "metadata": {},
     "output_type": "execute_result"
    }
   ],
   "source": [
    "importlib.reload(stats)"
   ]
  },
  {
   "cell_type": "code",
   "execution_count": null,
   "id": "b9522ce5",
   "metadata": {},
   "outputs": [],
   "source": [
    "load_dotenv()\n",
    "\n",
    "snowsesh = SnowflakeConnection()\n",
    "snowsesh.use_database(\"INTELLIGENCE_DEV\")\n",
    "snowsesh.use_schema(\"AI_CENTRE_FEATURE_STORE\")"
   ]
  },
  {
   "cell_type": "code",
   "execution_count": null,
   "id": "a066ac77",
   "metadata": {},
   "outputs": [],
   "source": [
    "ldl = data.get_data_by_cohort(snowsesh, \"intelligence_dev.ai_centre_dev.ldl_all\")\n"
   ]
  },
  {
   "cell_type": "markdown",
   "id": "4f0d763a",
   "metadata": {},
   "source": [
    "Clean the ldl column first"
   ]
  },
  {
   "cell_type": "code",
   "execution_count": null,
   "id": "01d6b979",
   "metadata": {},
   "outputs": [],
   "source": []
  },
  {
   "cell_type": "code",
   "execution_count": null,
   "id": "a88f4b01",
   "metadata": {},
   "outputs": [],
   "source": [
    "print(ldl)"
   ]
  },
  {
   "cell_type": "code",
   "execution_count": null,
   "id": "93d89115",
   "metadata": {},
   "outputs": [],
   "source": [
    "statin = data.get_data_by_cohort(snowsesh, \"intelligence_dev.ai_centre_dev.statin_all\")"
   ]
  },
  {
   "cell_type": "code",
   "execution_count": null,
   "id": "1074cd39",
   "metadata": {},
   "outputs": [],
   "source": [
    "drug_table = class_utils.MedicationTable(statin)\n"
   ]
  },
  {
   "cell_type": "code",
   "execution_count": null,
   "id": "4948f34c",
   "metadata": {},
   "outputs": [],
   "source": [
    "drug_table.validate_columns()  # Validate columns\n",
    "drug_table.normalise_missing_values()  # Standardise representation of missing data\n",
    "drug_table.convert_dates()  # Convert date columns\n",
    "drug_table.validate_data_types()  # Validate data types\n",
    "drug_table.clean_dose()  # Clean and interpret the 'dose' column\n",
    "drug_table.calculate_covered_days()\n",
    "\n",
    "print(\"All validations passed successfully!\")"
   ]
  },
  {
   "cell_type": "code",
   "execution_count": null,
   "id": "06e204da",
   "metadata": {},
   "outputs": [],
   "source": [
    "person_drug_pdc = pdc.compute_pdc_overall(drug_table.df)"
   ]
  },
  {
   "cell_type": "code",
   "execution_count": null,
   "id": "bf369eca",
   "metadata": {},
   "outputs": [],
   "source": [
    "person_drug_pdc = data.add_demographic_data(snowsesh, person_drug_pdc)"
   ]
  },
  {
   "cell_type": "code",
   "execution_count": null,
   "id": "4eee90b6",
   "metadata": {},
   "outputs": [],
   "source": [
    "person_drug_pdc = data.general_agg(person_drug_pdc)"
   ]
  },
  {
   "cell_type": "code",
   "execution_count": null,
   "id": "8a98adf1",
   "metadata": {},
   "outputs": [],
   "source": [
    "print(person_drug_pdc)"
   ]
  },
  {
   "cell_type": "markdown",
   "id": "4189298d",
   "metadata": {},
   "source": [
    "Join to results table"
   ]
  },
  {
   "cell_type": "code",
   "execution_count": null,
   "id": "aeef1ab8",
   "metadata": {},
   "outputs": [],
   "source": [
    "data_joined = data.attach_closest_results(person_drug_pdc,ldl)"
   ]
  },
  {
   "cell_type": "code",
   "execution_count": null,
   "id": "fb990d65",
   "metadata": {},
   "outputs": [],
   "source": [
    "print(data_joined)\n"
   ]
  },
  {
   "cell_type": "code",
   "execution_count": null,
   "id": "0e7edcfb",
   "metadata": {},
   "outputs": [],
   "source": [
    "data_joined_2 =  data.attach_closest_results_2(person_drug_pdc,ldl)"
   ]
  },
  {
   "cell_type": "markdown",
   "id": "b6865490",
   "metadata": {},
   "source": [
    "Clean \n",
    "- remove people without at least a year of medication\n",
    "- remove people with missing bloods - need at least 2 before and 2 after for average\n"
   ]
  },
  {
   "cell_type": "code",
   "execution_count": null,
   "id": "11c1310c",
   "metadata": {},
   "outputs": [],
   "source": [
    "clean_data = data.cohort_exclusions(data_joined)"
   ]
  },
  {
   "cell_type": "code",
   "execution_count": 96,
   "id": "57e982a4",
   "metadata": {},
   "outputs": [
    {
     "name": "stdout",
     "output_type": "stream",
     "text": [
      "        person_id                  drug_name min_start_date max_start_date  \\\n",
      "5              10                Simvastatin     2008-06-18     2015-02-26   \n",
      "7              14                Simvastatin     2009-10-28     2013-07-01   \n",
      "10             16                Simvastatin     2007-12-14     2016-08-17   \n",
      "11             18                Simvastatin     2002-08-28     2011-10-18   \n",
      "14             24               Atorvastatin     2002-04-23     2006-10-03   \n",
      "...           ...                        ...            ...            ...   \n",
      "415798    6403756               Atorvastatin     2014-09-22     2020-08-25   \n",
      "415799    6403756                Simvastatin     2012-09-13     2014-11-11   \n",
      "415805    6412440                Simvastatin     2011-02-15     2012-12-11   \n",
      "415812    6433901  Omega-3-acid ethyl esters     2014-09-24     2020-04-22   \n",
      "415816    6482170                Simvastatin     2005-04-15     2010-05-06   \n",
      "\n",
      "        gender    ethnicity  imd  age_at_start  overall_inclusive_pdc  \\\n",
      "5       Female      British  2.0            75               0.985600   \n",
      "7         Male      African  5.0            75               0.861230   \n",
      "10      Female      British  2.0            77               1.007132   \n",
      "11      Female      British  1.0            74               0.956625   \n",
      "14        Male      British  3.0            73               0.766667   \n",
      "...        ...          ...  ...           ...                    ...   \n",
      "415798  Female      African  3.0            51               0.830292   \n",
      "415799  Female      African  3.0            43               0.342717   \n",
      "415805    Male  Bangladeshi  3.0            42               0.970874   \n",
      "415812    Male       Indian  7.0            42               0.345763   \n",
      "415816    Male      African  6.0            49               0.784000   \n",
      "\n",
      "        overall_exclusive_pdc  total_covered_days  total_exposed_days  \\\n",
      "5                    0.928000              2464.0                2500   \n",
      "7                    0.812589              1204.0                1398   \n",
      "10                   0.971473              3248.0                3225   \n",
      "11                   0.875520              3220.0                3366   \n",
      "14                   0.700595              1288.0                1680   \n",
      "...                       ...                 ...                 ...   \n",
      "415798               0.802464              1820.0                2192   \n",
      "415799               0.317013               280.0                 817   \n",
      "415805               0.803051               700.0                 721   \n",
      "415812               0.334140               714.0                2065   \n",
      "415816               0.710400              1470.0                1875   \n",
      "\n",
      "        before_result_1  after_result_1  before_result_2  after_result_2  \\\n",
      "5                  4.40             4.2             4.35            4.42   \n",
      "7                  4.00             4.9              NaN            3.10   \n",
      "10                 2.00             1.3             3.31             NaN   \n",
      "11                 2.29             4.3             5.02            3.80   \n",
      "14                 4.90             2.6              NaN            3.40   \n",
      "...                 ...             ...              ...             ...   \n",
      "415798             3.30             3.7             3.20             NaN   \n",
      "415799             3.90             3.0             3.00            5.00   \n",
      "415805             3.40             2.3              NaN            4.10   \n",
      "415812             5.30             1.8             5.20            3.30   \n",
      "415816             3.50             2.8              NaN             NaN   \n",
      "\n",
      "        before_result_3  after_result_3  \n",
      "5                   NaN             NaN  \n",
      "7                   NaN             2.9  \n",
      "10                 3.89             NaN  \n",
      "11                 5.47             NaN  \n",
      "14                  NaN             2.3  \n",
      "...                 ...             ...  \n",
      "415798             1.80             NaN  \n",
      "415799             3.70             3.8  \n",
      "415805              NaN             3.3  \n",
      "415812             4.80             2.1  \n",
      "415816              NaN             NaN  \n",
      "\n",
      "[126581 rows x 18 columns]\n"
     ]
    }
   ],
   "source": [
    "print(clean_data)"
   ]
  },
  {
   "cell_type": "markdown",
   "id": "215eaa60",
   "metadata": {},
   "source": [
    "Average the results before/after"
   ]
  },
  {
   "cell_type": "code",
   "execution_count": 102,
   "id": "b1aa6331",
   "metadata": {},
   "outputs": [
    {
     "name": "stdout",
     "output_type": "stream",
     "text": [
      "        person_id                  drug_name min_start_date max_start_date  \\\n",
      "5              10                Simvastatin     2008-06-18     2015-02-26   \n",
      "7              14                Simvastatin     2009-10-28     2013-07-01   \n",
      "10             16                Simvastatin     2007-12-14     2016-08-17   \n",
      "11             18                Simvastatin     2002-08-28     2011-10-18   \n",
      "14             24               Atorvastatin     2002-04-23     2006-10-03   \n",
      "...           ...                        ...            ...            ...   \n",
      "415798    6403756               Atorvastatin     2014-09-22     2020-08-25   \n",
      "415799    6403756                Simvastatin     2012-09-13     2014-11-11   \n",
      "415805    6412440                Simvastatin     2011-02-15     2012-12-11   \n",
      "415812    6433901  Omega-3-acid ethyl esters     2014-09-24     2020-04-22   \n",
      "415816    6482170                Simvastatin     2005-04-15     2010-05-06   \n",
      "\n",
      "        gender    ethnicity  imd  age_at_start  overall_inclusive_pdc  \\\n",
      "5       Female      British  2.0            75               0.985600   \n",
      "7         Male      African  5.0            75               0.861230   \n",
      "10      Female      British  2.0            77               1.007132   \n",
      "11      Female      British  1.0            74               0.956625   \n",
      "14        Male      British  3.0            73               0.766667   \n",
      "...        ...          ...  ...           ...                    ...   \n",
      "415798  Female      African  3.0            51               0.830292   \n",
      "415799  Female      African  3.0            43               0.342717   \n",
      "415805    Male  Bangladeshi  3.0            42               0.970874   \n",
      "415812    Male       Indian  7.0            42               0.345763   \n",
      "415816    Male      African  6.0            49               0.784000   \n",
      "\n",
      "        overall_exclusive_pdc  ...  total_exposed_days  before_result_1  \\\n",
      "5                    0.928000  ...                2500             4.40   \n",
      "7                    0.812589  ...                1398             4.00   \n",
      "10                   0.971473  ...                3225             2.00   \n",
      "11                   0.875520  ...                3366             2.29   \n",
      "14                   0.700595  ...                1680             4.90   \n",
      "...                       ...  ...                 ...              ...   \n",
      "415798               0.802464  ...                2192             3.30   \n",
      "415799               0.317013  ...                 817             3.90   \n",
      "415805               0.803051  ...                 721             3.40   \n",
      "415812               0.334140  ...                2065             5.30   \n",
      "415816               0.710400  ...                1875             3.50   \n",
      "\n",
      "        after_result_1  before_result_2  after_result_2  before_result_3  \\\n",
      "5                  4.2             4.35            4.42              NaN   \n",
      "7                  4.9              NaN            3.10              NaN   \n",
      "10                 1.3             3.31             NaN             3.89   \n",
      "11                 4.3             5.02            3.80             5.47   \n",
      "14                 2.6              NaN            3.40              NaN   \n",
      "...                ...              ...             ...              ...   \n",
      "415798             3.7             3.20             NaN             1.80   \n",
      "415799             3.0             3.00            5.00             3.70   \n",
      "415805             2.3              NaN            4.10              NaN   \n",
      "415812             1.8             5.20            3.30             4.80   \n",
      "415816             2.8              NaN             NaN              NaN   \n",
      "\n",
      "        after_result_3  before_avg  after_avg  result_diff  \n",
      "5                  NaN    4.375000   4.310000    -0.065000  \n",
      "7                  2.9    4.000000   3.633333    -0.366667  \n",
      "10                 NaN    3.066667   1.300000    -1.766667  \n",
      "11                 NaN    4.260000   4.050000    -0.210000  \n",
      "14                 2.3    4.900000   2.766667    -2.133333  \n",
      "...                ...         ...        ...          ...  \n",
      "415798             NaN    2.766667   3.700000     0.933333  \n",
      "415799             3.8    3.533333   3.933333     0.400000  \n",
      "415805             3.3    3.400000   3.233333    -0.166667  \n",
      "415812             2.1    5.100000   2.400000    -2.700000  \n",
      "415816             NaN    3.500000   2.800000    -0.700000  \n",
      "\n",
      "[126581 rows x 21 columns]\n"
     ]
    }
   ],
   "source": [
    "analysis_data = data.avg_results(clean_data)\n",
    "print(analysis_data)"
   ]
  },
  {
   "cell_type": "code",
   "execution_count": null,
   "id": "27269e63",
   "metadata": {},
   "outputs": [],
   "source": [
    "# Unadjusted Linear regression"
   ]
  },
  {
   "cell_type": "code",
   "execution_count": 106,
   "id": "04efc258",
   "metadata": {},
   "outputs": [],
   "source": [
    "linr_unadj = stats.unadjusted_linr(analysis_data, \"overall_exclusive_pdc\", \"result_diff\")"
   ]
  },
  {
   "cell_type": "code",
   "execution_count": 107,
   "id": "2b82a67d",
   "metadata": {},
   "outputs": [
    {
     "name": "stdout",
     "output_type": "stream",
     "text": [
      "                            OLS Regression Results                            \n",
      "==============================================================================\n",
      "Dep. Variable:            result_diff   R-squared:                       0.003\n",
      "Model:                            OLS   Adj. R-squared:                  0.003\n",
      "Method:                 Least Squares   F-statistic:                     388.6\n",
      "Date:                Sat, 10 May 2025   Prob (F-statistic):           2.27e-86\n",
      "Time:                        12:29:23   Log-Likelihood:            -2.7051e+05\n",
      "No. Observations:              126581   AIC:                         5.410e+05\n",
      "Df Residuals:                  126579   BIC:                         5.410e+05\n",
      "Df Model:                           1                                         \n",
      "Covariance Type:            nonrobust                                         \n",
      "=========================================================================================\n",
      "                            coef    std err          t      P>|t|      [0.025      0.975]\n",
      "-----------------------------------------------------------------------------------------\n",
      "const                    -0.7282      0.013    -54.954      0.000      -0.754      -0.702\n",
      "overall_exclusive_pdc    -0.3876      0.020    -19.713      0.000      -0.426      -0.349\n",
      "==============================================================================\n",
      "Omnibus:                   337029.797   Durbin-Watson:                   1.953\n",
      "Prob(Omnibus):                  0.000   Jarque-Bera (JB):     163956339120.438\n",
      "Skew:                         -30.741   Prob(JB):                         0.00\n",
      "Kurtosis:                    5578.182   Cond. No.                         4.75\n",
      "==============================================================================\n",
      "\n",
      "Notes:\n",
      "[1] Standard Errors assume that the covariance matrix of the errors is correctly specified.\n"
     ]
    }
   ],
   "source": [
    "print(linr_unadj.summary())"
   ]
  }
 ],
 "metadata": {
  "kernelspec": {
   "display_name": "meds_env",
   "language": "python",
   "name": "python3"
  },
  "language_info": {
   "codemirror_mode": {
    "name": "ipython",
    "version": 3
   },
   "file_extension": ".py",
   "mimetype": "text/x-python",
   "name": "python",
   "nbconvert_exporter": "python",
   "pygments_lexer": "ipython3",
   "version": "3.11.11"
  }
 },
 "nbformat": 4,
 "nbformat_minor": 5
}
