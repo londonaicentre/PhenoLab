{
 "cells": [
  {
   "cell_type": "code",
   "execution_count": 205,
   "id": "ea48582e",
   "metadata": {},
   "outputs": [],
   "source": [
    "import importlib\n",
    "\n",
    "import pdc_functions.assumption_utils as assumptions\n",
    "import pdc_functions.data_utils as data\n",
    "import pdc_functions.explore_utils as explore\n",
    "import pdc_functions.pdc_1and2_utils as pdc\n",
    "import pdc_functions.stats_utils as stats\n",
    "from dotenv import load_dotenv\n",
    "import pdc_functions.class_utils as class_utils\n",
    "import pandas as pd\n",
    "\n",
    "\n",
    "from phmlondon.snow_utils import SnowflakeConnection\n"
   ]
  },
  {
   "cell_type": "code",
   "execution_count": null,
   "id": "0e372b12",
   "metadata": {},
   "outputs": [],
   "source": [
    "importlib.reload(stats) # Use when updating the functions"
   ]
  },
  {
   "cell_type": "code",
   "execution_count": null,
   "id": "b9522ce5",
   "metadata": {},
   "outputs": [],
   "source": [
    "# Snowflake env needed\n",
    "load_dotenv()\n",
    "\n",
    "snowsesh = SnowflakeConnection()\n",
    "snowsesh.use_database(\"INTELLIGENCE_DEV\")\n",
    "snowsesh.use_schema(\"AI_CENTRE_FEATURE_STORE\")"
   ]
  },
  {
   "cell_type": "code",
   "execution_count": null,
   "id": "a066ac77",
   "metadata": {},
   "outputs": [],
   "source": [
    "# Uses function to select all from pre made snowflake table. See sql folder for the sql used to generate the cohort tables\n",
    "# ldl_all table is a table of all the ldl measurements (using the open codelists ldl measurements definition ID\n",
    "ldl = data.get_data_by_cohort(snowsesh, \"intelligence_dev.ai_centre_dev.ldl_all\")\n"
   ]
  },
  {
   "cell_type": "markdown",
   "id": "4f0d763a",
   "metadata": {},
   "source": [
    "Clean the ldl column first - discussed with Dan - awaiting pipeline updates"
   ]
  },
  {
   "cell_type": "code",
   "execution_count": null,
   "id": "a88f4b01",
   "metadata": {},
   "outputs": [],
   "source": [
    "print(ldl)"
   ]
  },
  {
   "cell_type": "code",
   "execution_count": null,
   "id": "93d89115",
   "metadata": {},
   "outputs": [],
   "source": [
    "# Uses function to select all from pre made snowflake table. See sql folder for the sql used to generate the cohort tables\n",
    "# Statin_all table is a table of all orders of a Lipid-regulating drug as per the BNF class definition \n",
    "statin = data.get_data_by_cohort(snowsesh, \"intelligence_dev.ai_centre_dev.statin_all\")"
   ]
  },
  {
   "cell_type": "code",
   "execution_count": null,
   "id": "4cc45f7e",
   "metadata": {},
   "outputs": [],
   "source": [
    "print(statin['person_id'].nunique())\n",
    "print(ldl['person_id'].nunique())"
   ]
  },
  {
   "cell_type": "code",
   "execution_count": null,
   "id": "1074cd39",
   "metadata": {},
   "outputs": [],
   "source": [
    "# This uses a medicationtable class to ensure all the orders information is in the table and in the correct format\n",
    "drug_table = class_utils.MedicationTable(statin)\n"
   ]
  },
  {
   "cell_type": "code",
   "execution_count": null,
   "id": "4948f34c",
   "metadata": {},
   "outputs": [],
   "source": [
    "# This uses the functions in the medicationstable class.\n",
    "drug_table.validate_columns()  # Validate columns\n",
    "drug_table.normalise_missing_values()  # Standardise representation of missing data\n",
    "drug_table.convert_dates()  # Convert date columns\n",
    "drug_table.validate_data_types()  # Validate data types\n",
    "drug_table.clean_dose()  # Clean and interpret the 'dose' column\n",
    "drug_table.calculate_covered_days()\n",
    "\n",
    "print(\"All validations passed successfully!\")"
   ]
  },
  {
   "cell_type": "code",
   "execution_count": null,
   "id": "06e204da",
   "metadata": {},
   "outputs": [],
   "source": [
    "# Compute overal pdc calsulate the inclusive and exclusive pdcs per person per drug in the time frame available\n",
    "# this add the one row per order table so the pdc's will be the sae for the same person/drug combo\n",
    "person_drug_pdc = pdc.compute_pdc_overall(drug_table.df)"
   ]
  },
  {
   "cell_type": "markdown",
   "id": "a8d4a2dc",
   "metadata": {},
   "source": [
    "Running checks - yay works.\n",
    "\n",
    "Now, if there are any duration days that are negative - these are ignored when calculating covered_days"
   ]
  },
  {
   "cell_type": "code",
   "execution_count": null,
   "id": "a8de29e2",
   "metadata": {},
   "outputs": [],
   "source": [
    "print(person_drug_pdc[person_drug_pdc['total_covered_days'] < 0])\n"
   ]
  },
  {
   "cell_type": "code",
   "execution_count": null,
   "id": "bf369eca",
   "metadata": {},
   "outputs": [],
   "source": [
    "# adds demographic data - updated with the new IMD source.\n",
    "\n",
    "person_drug_pdc = data.add_demographic_data(snowsesh, person_drug_pdc)"
   ]
  },
  {
   "cell_type": "code",
   "execution_count": null,
   "id": "4eee90b6",
   "metadata": {},
   "outputs": [],
   "source": [
    "# this then aggregates the table into one row per person per drug including columns like total_covered_days etc\n",
    "person_drug_pdc = data.general_agg(person_drug_pdc)"
   ]
  },
  {
   "cell_type": "code",
   "execution_count": null,
   "id": "8a98adf1",
   "metadata": {},
   "outputs": [],
   "source": [
    "print(person_drug_pdc)"
   ]
  },
  {
   "cell_type": "markdown",
   "id": "4189298d",
   "metadata": {},
   "source": [
    "Join to ldl results table"
   ]
  },
  {
   "cell_type": "code",
   "execution_count": null,
   "id": "aeef1ab8",
   "metadata": {},
   "outputs": [],
   "source": [
    "# this results attachment add the 3 closest results within a +/- a year of the drug start and drug end dates for each person/drug combo\n",
    "data_joined = data.attach_closest_results(person_drug_pdc,ldl)"
   ]
  },
  {
   "cell_type": "code",
   "execution_count": null,
   "id": "fb990d65",
   "metadata": {},
   "outputs": [],
   "source": [
    "print(data_joined)\n"
   ]
  },
  {
   "cell_type": "code",
   "execution_count": null,
   "id": "0e7edcfb",
   "metadata": {},
   "outputs": [],
   "source": [
    "# Whereas this attchement selects the 3 results ONLY before the start date and ONLY after the end date\n",
    "data_joined_2 =  data.attach_closest_results_2(person_drug_pdc,ldl)"
   ]
  },
  {
   "cell_type": "markdown",
   "id": "b6865490",
   "metadata": {},
   "source": [
    "Clean \n",
    "- remove people without at least a year of medication\n",
    "- remove people with missing bloods - need at least 2 before and 2 after for average\n"
   ]
  },
  {
   "cell_type": "markdown",
   "id": "dc0fc934",
   "metadata": {},
   "source": [
    "Need to check the results with data_joined_2"
   ]
  },
  {
   "cell_type": "code",
   "execution_count": null,
   "id": "11c1310c",
   "metadata": {},
   "outputs": [],
   "source": [
    "clean_data = data.cohort_exclusions(data_joined)"
   ]
  },
  {
   "cell_type": "code",
   "execution_count": null,
   "id": "57e982a4",
   "metadata": {},
   "outputs": [],
   "source": [
    "print(clean_data)"
   ]
  },
  {
   "cell_type": "markdown",
   "id": "215eaa60",
   "metadata": {},
   "source": [
    "Average the results before/after"
   ]
  },
  {
   "cell_type": "code",
   "execution_count": null,
   "id": "b1aa6331",
   "metadata": {},
   "outputs": [],
   "source": [
    "# Creates a avg_before and avg_after col with a result_diff col per person per drug\n",
    "analysis_data = data.avg_results(clean_data)\n",
    "print(analysis_data)"
   ]
  },
  {
   "cell_type": "markdown",
   "id": "a3b4592c",
   "metadata": {},
   "source": [
    "EXPLORE THE ANALYSIS TABLE"
   ]
  },
  {
   "cell_type": "code",
   "execution_count": null,
   "id": "b1fa031c",
   "metadata": {},
   "outputs": [],
   "source": [
    "print(analysis_data.describe())\n"
   ]
  },
  {
   "cell_type": "code",
   "execution_count": null,
   "id": "77c702b3",
   "metadata": {},
   "outputs": [],
   "source": [
    "nan_counts = analysis_data.isna().sum()\n",
    "print(nan_counts)"
   ]
  },
  {
   "cell_type": "markdown",
   "id": "f7c487a0",
   "metadata": {},
   "source": [
    "Errors:\n",
    "- negative and massive total covered days? - sorted\n",
    "- leading to negative and massive overall_inclusive_pd - sorted\n",
    "- results ldl max can be >100?! - await dan cleaning?\n",
    "- some poeple on medication for 79 years....?... to do\n",
    "  \n",
    "Plan\n",
    "- look at and ?remove rows where total covered days are negative - DONE (added flag)\n",
    "- ldl needs cleaning - await dan\n",
    "- "
   ]
  },
  {
   "cell_type": "code",
   "execution_count": null,
   "id": "27269e63",
   "metadata": {},
   "outputs": [],
   "source": [
    "# Unadjusted Linear regression\n"
   ]
  },
  {
   "cell_type": "markdown",
   "id": "2c5e7d36",
   "metadata": {},
   "source": [
    "\n",
    "need to remoe the rows with no exlusive pdc"
   ]
  },
  {
   "cell_type": "code",
   "execution_count": null,
   "id": "04efc258",
   "metadata": {},
   "outputs": [],
   "source": [
    "df_clean_1 = analysis_data.dropna(subset=[\"overall_exclusive_pdc\", \"result_diff\"])\n",
    "\n",
    "linr_unadj = stats.linear_reg(df_clean_1, \"overall_exclusive_pdc\", \"result_diff\")"
   ]
  },
  {
   "cell_type": "code",
   "execution_count": null,
   "id": "2b82a67d",
   "metadata": {},
   "outputs": [],
   "source": [
    "print(linr_unadj.summary())"
   ]
  },
  {
   "cell_type": "code",
   "execution_count": null,
   "id": "e6c5ad0e",
   "metadata": {},
   "outputs": [],
   "source": [
    "categorical_cols = ['gender', 'ethnicity', 'drug_name', 'imd']\n",
    "outcome_col = 'result_diff'\n",
    "\n",
    "# Prepare the data\n",
    "df_clean = stats.prepare_data_for_regression(analysis_data, categorical_cols, outcome_col)\n"
   ]
  },
  {
   "cell_type": "code",
   "execution_count": null,
   "id": "616eee9c",
   "metadata": {},
   "outputs": [],
   "source": [
    "print(df_clean.columns)"
   ]
  },
  {
   "cell_type": "code",
   "execution_count": null,
   "id": "9cc8a2b7",
   "metadata": {},
   "outputs": [],
   "source": [
    "exclude_cols = [outcome_col, 'person_id', 'min_start_date', 'max_start_date', 'overall_inclusive_pdc', 'total_covered_days', 'total_exposed_days', 'before_result_1', 'after_result_1',\n",
    "       'before_result_2', 'after_result_2', 'before_result_3',\n",
    "       'after_result_3', 'before_avg', 'after_avg', 'result_diff']\n",
    "covariates = [col for col in df_clean.columns if col not in exclude_cols]\n",
    "\n",
    "\n",
    "linr_adj = stats.linear_reg(df_clean, covariates, outcome_col)\n",
    "\n",
    "print(linr_adj.summary())\n",
    "\n"
   ]
  },
  {
   "cell_type": "code",
   "execution_count": null,
   "id": "6e7f906b",
   "metadata": {},
   "outputs": [],
   "source": [
    "print(df_clean.dtypes)"
   ]
  },
  {
   "cell_type": "code",
   "execution_count": null,
   "id": "0848e071",
   "metadata": {},
   "outputs": [],
   "source": [
    "print(linr_adj.summary())"
   ]
  }
 ],
 "metadata": {
  "kernelspec": {
   "display_name": "meds_env",
   "language": "python",
   "name": "python3"
  },
  "language_info": {
   "codemirror_mode": {
    "name": "ipython",
    "version": 3
   },
   "file_extension": ".py",
   "mimetype": "text/x-python",
   "name": "python",
   "nbconvert_exporter": "python",
   "pygments_lexer": "ipython3",
   "version": "3.11.11"
  }
 },
 "nbformat": 4,
 "nbformat_minor": 5
}
