{
 "cells": [
  {
   "cell_type": "code",
   "execution_count": 41,
   "id": "ea48582e",
   "metadata": {},
   "outputs": [],
   "source": [
    "import sys\n",
    "import os\n",
    "\n",
    "# Get the path of the current notebook's directory and append the parent directory to the path\n",
    "sys.path.append(os.path.abspath(os.path.join(os.getcwd(), '..')))\n",
    "\n",
    "import importlib\n",
    "\n",
    "import pdc_functions.assumption_utils as assumptions\n",
    "import pdc_functions.data_utils as data\n",
    "import pdc_functions.explore_utils as explore\n",
    "import pdc_functions.pdc_1and2_utils as pdc\n",
    "import pdc_functions.stats_utils as stats\n",
    "from dotenv import load_dotenv\n",
    "import pdc_functions.class_utils as class_utils\n",
    "import pandas as pd\n",
    "\n",
    "importlib.reload(class_utils)\n",
    "\n",
    "from phmlondon.snow_utils import SnowflakeConnection\n"
   ]
  },
  {
   "cell_type": "code",
   "execution_count": 6,
   "id": "b9522ce5",
   "metadata": {},
   "outputs": [
    {
     "name": "stdout",
     "output_type": "stream",
     "text": [
      "Initiating login request with your identity provider. A browser window should have opened for you to complete the login. If you can't see it, check existing browser windows, or your OS settings. Press CTRL+C to abort and try again...\n",
      "Going to open: https://login.microsoftonline.com/8076439c-5b1f-4e15-91ea-a0bff0b3bf16/saml2?SAMLRequest=nZJfb9owFMW%2FSuQ9J7HDnxILqCgBDQk6BrTd9mYSBywcO%2FN1GrpPPyeA1D20D5PyENnn3t%2FxPXd4fy6k98oNCK1GiAQYeVylOhPqMEJPu7k%2FQB5YpjImteIj9MYB3Y%2BHwApZ0kllj2rDf1ccrOcaKaDNxQhVRlHNQABVrOBAbUq3k9WSRgGmDIAb63DoWpKBcKyjtSUNw7qug7oTaHMII4xxiOPQqRrJF%2FQOUX7OKI22OtXyVnJ2b%2FoAQULcbRBO4Qjra%2BGDUJcRfEbZX0RAv%2B52a3%2F9bbtD3uT2uqlWUBXcbLl5FSl%2F2iwvBsA52M56fTLoB9XJB%2B1mGLA%2FleEBKF3nkp14qouysq514P7CnGeh1AfhBrZIRqg8iUwS%2BV3O8Y8HmEqVH80zO09%2FJi%2FnlXlJipWZzOTmLlkvT6fNLEXe8y3eqIl3AVDxhWpCte4IRz0fuy%2Fe4Zj2YtrtBBEZ%2FEJe4kIVitm28ua89REUIjUadG61kkLx1uUA3%2FW7nTj1e3uS%2B11Oen5MOPMZ3uc53nf2OemHTXQRuqwPbY2Y8X8NZRi%2Bb3Fdx0eX0CJZaynSN2%2BuTcHsxwGSgLQnIvPzVkp5wYScZJnhAC5IKXU9NZxZt%2FXWVByF4wv1370f%2FwU%3D&RelayState=ver%3A1-hint%3A8834768175282-ETMsDgAAAZa0fItyABRBRVMvQ0JDL1BLQ1M1UGFkZGluZwEAABAAEPE2nxYhJiXLjfprEHjKb4cAAACQWqSPxXwJki0DZBGYsgFXz%2BoF6rSrqTgQFGOCp4%2F4F51T7mn7Mm2QJcUltJz3pibJbh60t959g1qLc45W3e7YjFnOQrI6vNoyUzrU8gkEj3Ac4CvEdQXZ%2B0%2BUr%2FWyoD43v91y1GyCTKXqMU4ood%2BkBV6E9R1uw%2FoRtIgRlzE6p6PWkOx4hKXW7wq11LE1sffwABS2RUFtIu5SVNj3VefhRyhhfOk7yw%3D%3D to authenticate...\n",
      "Snowflake session created successfully.\n",
      "Using database: INTELLIGENCE_DEV\n",
      "Using schema: AI_CENTRE_FEATURE_STORE\n"
     ]
    }
   ],
   "source": [
    "load_dotenv()\n",
    "\n",
    "snowsesh = SnowflakeConnection()\n",
    "snowsesh.use_database(\"INTELLIGENCE_DEV\")\n",
    "snowsesh.use_schema(\"AI_CENTRE_FEATURE_STORE\")"
   ]
  },
  {
   "cell_type": "code",
   "execution_count": 21,
   "id": "a066ac77",
   "metadata": {},
   "outputs": [
    {
     "name": "stdout",
     "output_type": "stream",
     "text": [
      "Retrieved 8775928 rows from cohort table: intelligence_dev.ai_centre_dev.ldl_all\n"
     ]
    }
   ],
   "source": [
    "ldl = data.get_data_by_cohort(snowsesh, \"intelligence_dev.ai_centre_dev.ldl_all\")\n"
   ]
  },
  {
   "cell_type": "code",
   "execution_count": 38,
   "id": "93d89115",
   "metadata": {},
   "outputs": [
    {
     "name": "stdout",
     "output_type": "stream",
     "text": [
      "Retrieved 13686879 rows from cohort table: intelligence_dev.ai_centre_dev.statin_all\n"
     ]
    }
   ],
   "source": [
    "statin = data.get_data_by_cohort(snowsesh, \"intelligence_dev.ai_centre_dev.statin_all\")"
   ]
  },
  {
   "cell_type": "code",
   "execution_count": 42,
   "id": "1074cd39",
   "metadata": {},
   "outputs": [],
   "source": [
    "drug_table = class_utils.MedicationTable(statin)\n"
   ]
  },
  {
   "cell_type": "code",
   "execution_count": 43,
   "id": "4948f34c",
   "metadata": {},
   "outputs": [
    {
     "name": "stdout",
     "output_type": "stream",
     "text": [
      "Invalid rows (dose or tablets_per_day issue):\n",
      "Empty DataFrame\n",
      "Columns: [dose, tablets_per_day]\n",
      "Index: []\n",
      "All validations passed successfully!\n"
     ]
    }
   ],
   "source": [
    "drug_table.validate_columns()  # Validate columns\n",
    "drug_table.normalise_missing_values()  # Standardise representation of missing data\n",
    "drug_table.convert_dates()  # Convert date columns\n",
    "drug_table.validate_data_types()  # Validate data types\n",
    "drug_table.clean_dose()  # Clean and interpret the 'dose' column\n",
    "drug_table.calculate_covered_days()\n",
    "\n",
    "print(\"All validations passed successfully!\")"
   ]
  },
  {
   "cell_type": "code",
   "execution_count": null,
   "id": "06e204da",
   "metadata": {},
   "outputs": [],
   "source": [
    "person_drug_pdc = pdc.compute_pdc_overall(drug_table.df)"
   ]
  },
  {
   "cell_type": "code",
   "execution_count": null,
   "id": "4eee90b6",
   "metadata": {},
   "outputs": [],
   "source": []
  }
 ],
 "metadata": {
  "kernelspec": {
   "display_name": "meds_env",
   "language": "python",
   "name": "python3"
  },
  "language_info": {
   "codemirror_mode": {
    "name": "ipython",
    "version": 3
   },
   "file_extension": ".py",
   "mimetype": "text/x-python",
   "name": "python",
   "nbconvert_exporter": "python",
   "pygments_lexer": "ipython3",
   "version": "3.11.11"
  }
 },
 "nbformat": 4,
 "nbformat_minor": 5
}
