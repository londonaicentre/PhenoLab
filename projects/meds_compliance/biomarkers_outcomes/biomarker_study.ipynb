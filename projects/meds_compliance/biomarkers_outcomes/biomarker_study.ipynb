{
 "cells": [
  {
   "cell_type": "code",
   "execution_count": null,
   "id": "ea48582e",
   "metadata": {},
   "outputs": [],
   "source": [
    "import sys\n",
    "import os\n",
    "\n",
    "# Get the path of the current notebook's directory and append the parent directory to the path\n",
    "sys.path.append(os.path.abspath(os.path.join(os.getcwd(), '..')))\n",
    "\n",
    "import importlib\n",
    "\n",
    "import pdc_functions.assumption_utils as assumptions\n",
    "import pdc_functions.data_utils as data\n",
    "import pdc_functions.explore_utils as explore\n",
    "import pdc_functions.pdc_1and2_utils as pdc\n",
    "import pdc_functions.stats_utils as stats\n",
    "from dotenv import load_dotenv\n",
    "import pdc_functions.class_utils as class_utils\n",
    "import pandas as pd\n",
    "\n",
    "\n",
    "from phmlondon.snow_utils import SnowflakeConnection\n"
   ]
  },
  {
   "cell_type": "code",
   "execution_count": null,
   "id": "0e372b12",
   "metadata": {},
   "outputs": [],
   "source": [
    "importlib.reload(stats)"
   ]
  },
  {
   "cell_type": "code",
   "execution_count": null,
   "id": "b9522ce5",
   "metadata": {},
   "outputs": [],
   "source": [
    "load_dotenv()\n",
    "\n",
    "snowsesh = SnowflakeConnection()\n",
    "snowsesh.use_database(\"INTELLIGENCE_DEV\")\n",
    "snowsesh.use_schema(\"AI_CENTRE_FEATURE_STORE\")"
   ]
  },
  {
   "cell_type": "code",
   "execution_count": null,
   "id": "a066ac77",
   "metadata": {},
   "outputs": [],
   "source": [
    "ldl = data.get_data_by_cohort(snowsesh, \"intelligence_dev.ai_centre_dev.ldl_all\")\n"
   ]
  },
  {
   "cell_type": "markdown",
   "id": "4f0d763a",
   "metadata": {},
   "source": [
    "Clean the ldl column first"
   ]
  },
  {
   "cell_type": "code",
   "execution_count": null,
   "id": "01d6b979",
   "metadata": {},
   "outputs": [],
   "source": []
  },
  {
   "cell_type": "code",
   "execution_count": null,
   "id": "a88f4b01",
   "metadata": {},
   "outputs": [],
   "source": [
    "print(ldl)"
   ]
  },
  {
   "cell_type": "code",
   "execution_count": null,
   "id": "93d89115",
   "metadata": {},
   "outputs": [],
   "source": [
    "statin = data.get_data_by_cohort(snowsesh, \"intelligence_dev.ai_centre_dev.statin_all\")"
   ]
  },
  {
   "cell_type": "code",
   "execution_count": null,
   "id": "1074cd39",
   "metadata": {},
   "outputs": [],
   "source": [
    "drug_table = class_utils.MedicationTable(statin)\n"
   ]
  },
  {
   "cell_type": "code",
   "execution_count": null,
   "id": "4948f34c",
   "metadata": {},
   "outputs": [],
   "source": [
    "drug_table.validate_columns()  # Validate columns\n",
    "drug_table.normalise_missing_values()  # Standardise representation of missing data\n",
    "drug_table.convert_dates()  # Convert date columns\n",
    "drug_table.validate_data_types()  # Validate data types\n",
    "drug_table.clean_dose()  # Clean and interpret the 'dose' column\n",
    "drug_table.calculate_covered_days()\n",
    "\n",
    "print(\"All validations passed successfully!\")"
   ]
  },
  {
   "cell_type": "code",
   "execution_count": null,
   "id": "06e204da",
   "metadata": {},
   "outputs": [],
   "source": [
    "person_drug_pdc = pdc.compute_pdc_overall(drug_table.df)"
   ]
  },
  {
   "cell_type": "code",
   "execution_count": null,
   "id": "bf369eca",
   "metadata": {},
   "outputs": [],
   "source": [
    "person_drug_pdc = data.add_demographic_data(snowsesh, person_drug_pdc)"
   ]
  },
  {
   "cell_type": "code",
   "execution_count": null,
   "id": "4eee90b6",
   "metadata": {},
   "outputs": [],
   "source": [
    "person_drug_pdc = data.general_agg(person_drug_pdc)"
   ]
  },
  {
   "cell_type": "code",
   "execution_count": null,
   "id": "8a98adf1",
   "metadata": {},
   "outputs": [],
   "source": [
    "print(person_drug_pdc)"
   ]
  },
  {
   "cell_type": "markdown",
   "id": "4189298d",
   "metadata": {},
   "source": [
    "Join to results table"
   ]
  },
  {
   "cell_type": "code",
   "execution_count": null,
   "id": "aeef1ab8",
   "metadata": {},
   "outputs": [],
   "source": [
    "data_joined = data.attach_closest_results(person_drug_pdc,ldl)"
   ]
  },
  {
   "cell_type": "code",
   "execution_count": null,
   "id": "fb990d65",
   "metadata": {},
   "outputs": [],
   "source": [
    "print(data_joined)\n"
   ]
  },
  {
   "cell_type": "code",
   "execution_count": null,
   "id": "0e7edcfb",
   "metadata": {},
   "outputs": [],
   "source": [
    "data_joined_2 =  data.attach_closest_results_2(person_drug_pdc,ldl)"
   ]
  },
  {
   "cell_type": "markdown",
   "id": "b6865490",
   "metadata": {},
   "source": [
    "Clean \n",
    "- remove people without at least a year of medication\n",
    "- remove people with missing bloods - need at least 2 before and 2 after for average\n"
   ]
  },
  {
   "cell_type": "code",
   "execution_count": null,
   "id": "11c1310c",
   "metadata": {},
   "outputs": [],
   "source": [
    "clean_data = data.cohort_exclusions(data_joined)"
   ]
  },
  {
   "cell_type": "code",
   "execution_count": null,
   "id": "57e982a4",
   "metadata": {},
   "outputs": [],
   "source": [
    "print(clean_data)"
   ]
  },
  {
   "cell_type": "markdown",
   "id": "215eaa60",
   "metadata": {},
   "source": [
    "Average the results before/after"
   ]
  },
  {
   "cell_type": "code",
   "execution_count": null,
   "id": "b1aa6331",
   "metadata": {},
   "outputs": [],
   "source": [
    "analysis_data = data.avg_results(clean_data)\n",
    "print(analysis_data)"
   ]
  },
  {
   "cell_type": "code",
   "execution_count": null,
   "id": "27269e63",
   "metadata": {},
   "outputs": [],
   "source": [
    "# Unadjusted Linear regression"
   ]
  },
  {
   "cell_type": "code",
   "execution_count": null,
   "id": "04efc258",
   "metadata": {},
   "outputs": [],
   "source": [
    "linr_unadj = stats.linear_reg(analysis_data, \"overall_exclusive_pdc\", \"result_diff\")"
   ]
  },
  {
   "cell_type": "code",
   "execution_count": null,
   "id": "2b82a67d",
   "metadata": {},
   "outputs": [],
   "source": [
    "print(linr_unadj.summary())"
   ]
  },
  {
   "cell_type": "code",
   "execution_count": null,
   "id": "e6c5ad0e",
   "metadata": {},
   "outputs": [],
   "source": [
    "categorical_cols = ['gender', 'ethnicity', 'drug_name', 'imd']\n",
    "outcome_col = 'result_diff'\n",
    "\n",
    "# Prepare the data\n",
    "df_clean = stats.prepare_data_for_regression(analysis_data, categorical_cols, outcome_col)\n"
   ]
  },
  {
   "cell_type": "code",
   "execution_count": null,
   "id": "616eee9c",
   "metadata": {},
   "outputs": [],
   "source": [
    "print(df_clean.columns)"
   ]
  },
  {
   "cell_type": "code",
   "execution_count": null,
   "id": "9cc8a2b7",
   "metadata": {},
   "outputs": [],
   "source": [
    "exclude_cols = [outcome_col, 'person_id', 'min_start_date', 'max_start_date', 'overall_inclusive_pdc', 'total_covered_days', 'total_exposed_days', 'before_result_1', 'after_result_1',\n",
    "       'before_result_2', 'after_result_2', 'before_result_3',\n",
    "       'after_result_3', 'before_avg', 'after_avg', 'result_diff']\n",
    "covariates = [col for col in df_clean.columns if col not in exclude_cols]\n",
    "\n",
    "\n",
    "linr_adj = stats.linear_reg(df_clean, covariates, outcome_col)\n",
    "\n",
    "print(linr_adj.summary())\n",
    "\n"
   ]
  },
  {
   "cell_type": "code",
   "execution_count": null,
   "id": "6e7f906b",
   "metadata": {},
   "outputs": [],
   "source": [
    "print(df_clean.dtypes)"
   ]
  },
  {
   "cell_type": "code",
   "execution_count": 132,
   "id": "0848e071",
   "metadata": {},
   "outputs": [
    {
     "name": "stdout",
     "output_type": "stream",
     "text": [
      "                            OLS Regression Results                            \n",
      "==============================================================================\n",
      "Dep. Variable:            result_diff   R-squared:                       0.012\n",
      "Model:                            OLS   Adj. R-squared:                  0.011\n",
      "Method:                 Least Squares   F-statistic:                     11.58\n",
      "Date:                Thu, 15 May 2025   Prob (F-statistic):           9.54e-89\n",
      "Time:                        09:40:02   Log-Likelihood:                -97022.\n",
      "No. Observations:               48645   AIC:                         1.941e+05\n",
      "Df Residuals:                   48595   BIC:                         1.946e+05\n",
      "Df Model:                          49                                         \n",
      "Covariance Type:            nonrobust                                         \n",
      "==========================================================================================================\n",
      "                                             coef    std err          t      P>|t|      [0.025      0.975]\n",
      "----------------------------------------------------------------------------------------------------------\n",
      "const                                      0.0602      1.032      0.058      0.953      -1.962       2.083\n",
      "age_at_start                              -0.0007      0.001     -0.901      0.368      -0.002       0.001\n",
      "overall_exclusive_pdc                     -0.2818      0.029     -9.810      0.000      -0.338      -0.225\n",
      "gender_Male                               -0.0633      0.016     -3.878      0.000      -0.095      -0.031\n",
      "gender_Unknown                            -0.4135      0.727     -0.569      0.569      -1.838       1.011\n",
      "ethnicity_Any other Asian background      -0.0435      0.048     -0.915      0.360      -0.137       0.050\n",
      "ethnicity_Any other Black background      -0.1963      0.063     -3.126      0.002      -0.319      -0.073\n",
      "ethnicity_Any other White background      -0.1267      0.042     -3.033      0.002      -0.209      -0.045\n",
      "ethnicity_Any other ethnic group          -0.1180      0.056     -2.123      0.034      -0.227      -0.009\n",
      "ethnicity_Any other mixed background      -0.1590      0.122     -1.299      0.194      -0.399       0.081\n",
      "ethnicity_Bangladeshi                     -0.2931      0.041     -7.087      0.000      -0.374      -0.212\n",
      "ethnicity_British                         -0.1589      0.035     -4.584      0.000      -0.227      -0.091\n",
      "ethnicity_Caribbean                        0.0110      0.045      0.245      0.806      -0.077       0.099\n",
      "ethnicity_Chinese                         -0.2710      0.115     -2.348      0.019      -0.497      -0.045\n",
      "ethnicity_Indian                          -0.1225      0.039     -3.128      0.002      -0.199      -0.046\n",
      "ethnicity_Irish                           -0.1472      0.090     -1.642      0.101      -0.323       0.028\n",
      "ethnicity_Not stated                      -0.0739      0.119     -0.623      0.533      -0.306       0.159\n",
      "ethnicity_Pakistani                       -0.0658      0.043     -1.545      0.122      -0.149       0.018\n",
      "ethnicity_White and Asian                 -0.1306      0.184     -0.711      0.477      -0.491       0.229\n",
      "ethnicity_White and Black African          0.0320      0.133      0.240      0.811      -0.229       0.293\n",
      "ethnicity_White and Black Caribbean       -0.0571      0.110     -0.518      0.605      -0.273       0.159\n",
      "drug_name_Atorvastatin                    -0.4972      1.029     -0.483      0.629      -2.514       1.520\n",
      "drug_name_Bezafibrate                      0.0468      1.033      0.045      0.964      -1.978       2.072\n",
      "drug_name_Cerivastatin                    -0.9879      1.260     -0.784      0.433      -3.457       1.481\n",
      "drug_name_Ciprofibrate                     0.0064      1.051      0.006      0.995      -2.053       2.066\n",
      "drug_name_Colesevelam hydrochloride        0.0434      1.059      0.041      0.967      -2.031       2.118\n",
      "drug_name_Colestipol hydrochloride        -0.5146      1.260     -0.409      0.683      -2.983       1.954\n",
      "drug_name_Colestyramine                    0.0347      1.040      0.033      0.973      -2.003       2.072\n",
      "drug_name_Ezetimibe                       -0.1281      1.030     -0.124      0.901      -2.146       1.890\n",
      "drug_name_Fenofibrate                      0.0691      1.035      0.067      0.947      -1.960       2.098\n",
      "drug_name_Fluvastatin sodium              -0.3254      1.044     -0.312      0.755      -2.371       1.721\n",
      "drug_name_Gemfibrozil                     -0.3963      1.229     -0.322      0.747      -2.806       2.013\n",
      "drug_name_Nicotinic acid                  -0.1667      1.141     -0.146      0.884      -2.404       2.070\n",
      "drug_name_Nicotinic acid/laropiprant       0.3524      1.173      0.301      0.764      -1.946       2.651\n",
      "drug_name_Omega-3 marine triglycerides     0.0833      1.085      0.077      0.939      -2.042       2.209\n",
      "drug_name_Omega-3-acid ethyl esters        0.0301      1.035      0.029      0.977      -1.999       2.059\n",
      "drug_name_Pravastatin sodium               0.0030      1.030      0.003      0.998      -2.016       2.022\n",
      "drug_name_Rosuvastatin calcium            -0.3497      1.030     -0.340      0.734      -2.368       1.669\n",
      "drug_name_Simvastatin                     -0.5037      1.029     -0.489      0.625      -2.521       1.513\n",
      "drug_name_Simvastatin and ezetimibe       -0.1692      1.032     -0.164      0.870      -2.192       1.853\n",
      "imd_10.0                                  -0.1097      0.091     -1.202      0.229      -0.289       0.069\n",
      "imd_2.0                                   -0.0715      0.058     -1.227      0.220      -0.186       0.043\n",
      "imd_3.0                                   -0.0409      0.058     -0.711      0.477      -0.154       0.072\n",
      "imd_4.0                                   -0.0759      0.059     -1.281      0.200      -0.192       0.040\n",
      "imd_5.0                                   -0.0335      0.061     -0.551      0.582      -0.153       0.086\n",
      "imd_6.0                                   -0.0536      0.062     -0.871      0.384      -0.174       0.067\n",
      "imd_7.0                                   -0.0956      0.064     -1.487      0.137      -0.222       0.030\n",
      "imd_8.0                                   -0.0516      0.067     -0.768      0.442      -0.183       0.080\n",
      "imd_9.0                                   -0.0282      0.067     -0.419      0.675      -0.160       0.104\n",
      "imd_nan                                   -0.0265      0.084     -0.315      0.752      -0.191       0.138\n",
      "==============================================================================\n",
      "Omnibus:                   165702.517   Durbin-Watson:                   1.985\n",
      "Prob(Omnibus):                  0.000   Jarque-Bera (JB):     106349682439.392\n",
      "Skew:                         -62.393   Prob(JB):                         0.00\n",
      "Kurtosis:                    7245.528   Cond. No.                     3.54e+04\n",
      "==============================================================================\n",
      "\n",
      "Notes:\n",
      "[1] Standard Errors assume that the covariance matrix of the errors is correctly specified.\n",
      "[2] The condition number is large, 3.54e+04. This might indicate that there are\n",
      "strong multicollinearity or other numerical problems.\n"
     ]
    }
   ],
   "source": [
    "print(linr_adj.summary())"
   ]
  }
 ],
 "metadata": {
  "kernelspec": {
   "display_name": "meds_env",
   "language": "python",
   "name": "python3"
  },
  "language_info": {
   "codemirror_mode": {
    "name": "ipython",
    "version": 3
   },
   "file_extension": ".py",
   "mimetype": "text/x-python",
   "name": "python",
   "nbconvert_exporter": "python",
   "pygments_lexer": "ipython3",
   "version": "3.11.11"
  }
 },
 "nbformat": 4,
 "nbformat_minor": 5
}
