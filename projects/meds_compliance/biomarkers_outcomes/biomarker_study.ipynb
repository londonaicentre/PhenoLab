{
 "cells": [
  {
   "cell_type": "code",
   "execution_count": null,
   "id": "ea48582e",
   "metadata": {},
   "outputs": [],
   "source": [
    "import sys\n",
    "import os\n",
    "\n",
    "# Get the path of the current notebook's directory and append the parent directory to the path\n",
    "sys.path.append(os.path.abspath(os.path.join(os.getcwd(), '..')))\n",
    "\n",
    "import importlib\n",
    "\n",
    "import pdc_functions.assumption_utils as assumptions\n",
    "import pdc_functions.data_utils as data\n",
    "import pdc_functions.explore_utils as explore\n",
    "import pdc_functions.pdc_1and2_utils as pdc\n",
    "import pdc_functions.stats_utils as stats\n",
    "from dotenv import load_dotenv\n",
    "import pdc_functions.class_utils as class_utils\n",
    "import pandas as pd\n",
    "\n",
    "importlib.reload(data)\n",
    "\n",
    "from phmlondon.snow_utils import SnowflakeConnection\n"
   ]
  },
  {
   "cell_type": "code",
   "execution_count": null,
   "id": "b9522ce5",
   "metadata": {},
   "outputs": [],
   "source": [
    "load_dotenv()\n",
    "\n",
    "snowsesh = SnowflakeConnection()\n",
    "snowsesh.use_database(\"INTELLIGENCE_DEV\")\n",
    "snowsesh.use_schema(\"AI_CENTRE_FEATURE_STORE\")"
   ]
  },
  {
   "cell_type": "code",
   "execution_count": null,
   "id": "a066ac77",
   "metadata": {},
   "outputs": [],
   "source": [
    "ldl = data.get_data_by_cohort(snowsesh, \"intelligence_dev.ai_centre_dev.ldl_all\")\n"
   ]
  },
  {
   "cell_type": "markdown",
   "id": "4f0d763a",
   "metadata": {},
   "source": [
    "Clean the ldl column first"
   ]
  },
  {
   "cell_type": "code",
   "execution_count": null,
   "id": "01d6b979",
   "metadata": {},
   "outputs": [],
   "source": []
  },
  {
   "cell_type": "code",
   "execution_count": null,
   "id": "a88f4b01",
   "metadata": {},
   "outputs": [],
   "source": [
    "print(ldl)"
   ]
  },
  {
   "cell_type": "code",
   "execution_count": null,
   "id": "93d89115",
   "metadata": {},
   "outputs": [],
   "source": [
    "statin = data.get_data_by_cohort(snowsesh, \"intelligence_dev.ai_centre_dev.statin_all\")"
   ]
  },
  {
   "cell_type": "code",
   "execution_count": null,
   "id": "1074cd39",
   "metadata": {},
   "outputs": [],
   "source": [
    "drug_table = class_utils.MedicationTable(statin)\n"
   ]
  },
  {
   "cell_type": "code",
   "execution_count": null,
   "id": "4948f34c",
   "metadata": {},
   "outputs": [],
   "source": [
    "drug_table.validate_columns()  # Validate columns\n",
    "drug_table.normalise_missing_values()  # Standardise representation of missing data\n",
    "drug_table.convert_dates()  # Convert date columns\n",
    "drug_table.validate_data_types()  # Validate data types\n",
    "drug_table.clean_dose()  # Clean and interpret the 'dose' column\n",
    "drug_table.calculate_covered_days()\n",
    "\n",
    "print(\"All validations passed successfully!\")"
   ]
  },
  {
   "cell_type": "code",
   "execution_count": null,
   "id": "06e204da",
   "metadata": {},
   "outputs": [],
   "source": [
    "person_drug_pdc = pdc.compute_pdc_overall(drug_table.df)"
   ]
  },
  {
   "cell_type": "code",
   "execution_count": null,
   "id": "bf369eca",
   "metadata": {},
   "outputs": [],
   "source": [
    "person_drug_pdc = data.add_demographic_data(snowsesh, person_drug_pdc)"
   ]
  },
  {
   "cell_type": "code",
   "execution_count": null,
   "id": "4eee90b6",
   "metadata": {},
   "outputs": [],
   "source": [
    "person_drug_pdc = data.general_agg(person_drug_pdc)"
   ]
  },
  {
   "cell_type": "code",
   "execution_count": null,
   "id": "8a98adf1",
   "metadata": {},
   "outputs": [],
   "source": [
    "print(person_drug_pdc)"
   ]
  },
  {
   "cell_type": "markdown",
   "id": "4189298d",
   "metadata": {},
   "source": [
    "Join to results table"
   ]
  },
  {
   "cell_type": "code",
   "execution_count": null,
   "id": "aeef1ab8",
   "metadata": {},
   "outputs": [],
   "source": [
    "data_joined = data.attach_closest_results(person_drug_pdc,ldl)"
   ]
  },
  {
   "cell_type": "code",
   "execution_count": null,
   "id": "fb990d65",
   "metadata": {},
   "outputs": [],
   "source": [
    "print(data_joined)\n"
   ]
  },
  {
   "cell_type": "code",
   "execution_count": null,
   "id": "0e7edcfb",
   "metadata": {},
   "outputs": [],
   "source": [
    "data_joined_2 =  data.attach_closest_results_2(person_drug_pdc,ldl)"
   ]
  },
  {
   "cell_type": "markdown",
   "id": "b6865490",
   "metadata": {},
   "source": [
    "Clean \n",
    "- remove people without at least a year of medication\n",
    "- remove people with missing bloods - need at least 2 before and 2 after for average\n"
   ]
  },
  {
   "cell_type": "code",
   "execution_count": null,
   "id": "11c1310c",
   "metadata": {},
   "outputs": [],
   "source": [
    "clean_data = data.cohort_exclusions(data_joined)"
   ]
  },
  {
   "cell_type": "code",
   "execution_count": null,
   "id": "57e982a4",
   "metadata": {},
   "outputs": [],
   "source": [
    "print(clean_data)"
   ]
  },
  {
   "cell_type": "markdown",
   "id": "215eaa60",
   "metadata": {},
   "source": [
    "Average the results before/after"
   ]
  },
  {
   "cell_type": "code",
   "execution_count": null,
   "id": "b1aa6331",
   "metadata": {},
   "outputs": [],
   "source": []
  }
 ],
 "metadata": {
  "kernelspec": {
   "display_name": "meds_env",
   "language": "python",
   "name": "python3"
  },
  "language_info": {
   "codemirror_mode": {
    "name": "ipython",
    "version": 3
   },
   "file_extension": ".py",
   "mimetype": "text/x-python",
   "name": "python",
   "nbconvert_exporter": "python",
   "pygments_lexer": "ipython3",
   "version": "3.11.11"
  }
 },
 "nbformat": 4,
 "nbformat_minor": 5
}
