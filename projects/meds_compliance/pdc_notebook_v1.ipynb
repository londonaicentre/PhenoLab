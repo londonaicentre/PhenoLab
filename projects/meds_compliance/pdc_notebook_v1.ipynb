{
 "cells": [
  {
   "cell_type": "code",
   "execution_count": null,
   "metadata": {},
   "outputs": [],
   "source": [
    "import pdc_functions.clean_utils as clean\n",
    "import pdc_functions.data_utils as data\n",
    "import pdc_functions.dummydata_utils as dummy\n",
    "import pdc_functions.explore_utils as explore\n",
    "import pdc_functions.pdc_1and2_utils as pdc\n",
    "from dotenv import load_dotenv\n",
    "\n",
    "from phmlondon.snow_utils import SnowflakeConnection\n"
   ]
  },
  {
   "cell_type": "code",
   "execution_count": null,
   "metadata": {},
   "outputs": [],
   "source": [
    "load_dotenv()\n",
    "\n",
    "snowsesh = SnowflakeConnection()\n",
    "snowsesh.use_database(\"INTELLIGENCE_DEV\")\n",
    "snowsesh.use_schema(\"AI_CENTRE_FEATURE_STORE\")"
   ]
  },
  {
   "cell_type": "code",
   "execution_count": null,
   "metadata": {},
   "outputs": [],
   "source": [
    "df = data.get_data_by_class(snowsesh,'Lipid-regulating drugs',\n",
    "                    'Calcium-channel blockers',\n",
    "                    'Angiotensin-converting enzyme inhibitors')\n",
    "\n",
    "# dummy data\n",
    "#df = dummy.generate_medication_data(num_people=50, num_entries_per_person=50, gap_probability=0.1)\n",
    "#print(df.head())"
   ]
  },
  {
   "cell_type": "code",
   "execution_count": null,
   "metadata": {},
   "outputs": [],
   "source": [
    "clean_df = clean.clean_dose(df)\n",
    "print(clean_df.head())"
   ]
  },
  {
   "cell_type": "code",
   "execution_count": null,
   "metadata": {},
   "outputs": [],
   "source": [
    "\n",
    "\n",
    "# Filter the data for a specific patient (e.g., patient with person_id = 6387610)\n",
    "patient_data = clean_df[clean_df['person_id'] == 1]\n",
    "print(patient_data.head())\n",
    "\n",
    "\n",
    "\n"
   ]
  },
  {
   "cell_type": "code",
   "execution_count": null,
   "metadata": {},
   "outputs": [],
   "source": [
    "# Run the POI analysis for just this patient\n",
    "# Define your Period of Interest (POI)\n",
    "start_poi = '2025-01-01'\n",
    "end_poi = '2025-12-31'\n",
    "\n",
    "pdc_df_patient = pdc.poi_analysis(patient_data, start_poi=start_poi,\n",
    "                                  end_poi=end_poi, window_size='1M', step_size='1D')\n",
    "print(pdc_df_patient.head())\n",
    "\n",
    "\n",
    "\n"
   ]
  },
  {
   "cell_type": "code",
   "execution_count": null,
   "metadata": {},
   "outputs": [],
   "source": [
    "# Plot the PDC trend for this specific patient and drug\n",
    "pdc.plot_pdc_trend(pdc_df_patient)"
   ]
  },
  {
   "cell_type": "code",
   "execution_count": null,
   "metadata": {},
   "outputs": [],
   "source": [
    "start_poi = '2023-01-01'\n",
    "end_poi = '2025-12-31'\n",
    "\n",
    "pdc_df_all = pdc.poi_analysis(clean_df, start_poi=start_poi,\n",
    "                              end_poi=end_poi, window_size='1M', step_size='1D')\n",
    "print(pdc_df_all.head())"
   ]
  },
  {
   "cell_type": "code",
   "execution_count": null,
   "metadata": {},
   "outputs": [],
   "source": []
  }
 ],
 "metadata": {
  "kernelspec": {
   "display_name": "meds_env",
   "language": "python",
   "name": "python3"
  },
  "language_info": {
   "codemirror_mode": {
    "name": "ipython",
    "version": 3
   },
   "file_extension": ".py",
   "mimetype": "text/x-python",
   "name": "python",
   "nbconvert_exporter": "python",
   "pygments_lexer": "ipython3",
   "version": "3.11.11"
  }
 },
 "nbformat": 4,
 "nbformat_minor": 2
}
