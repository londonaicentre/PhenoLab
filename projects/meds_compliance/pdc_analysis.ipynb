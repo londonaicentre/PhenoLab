{
 "cells": [
  {
   "cell_type": "markdown",
   "metadata": {},
   "source": [
    "# Medications Compliance workbook"
   ]
  },
  {
   "cell_type": "markdown",
   "metadata": {},
   "source": [
    "This workbook uses medication order and statements tables from the NEL primary care data to analyse medications compliance by expolring methods of proportion of days covered (PDC)\n",
    "\n",
    "See paper https://joppp.biomedcentral.com/articles/10.1186/s40545-021-00385-w\n",
    "\n",
    "Please check and install requirements.txt before proceeding\n"
   ]
  },
  {
   "cell_type": "markdown",
   "metadata": {},
   "source": [
    "## Import required packages/modules"
   ]
  },
  {
   "cell_type": "code",
   "execution_count": 21,
   "metadata": {},
   "outputs": [],
   "source": [
    "import matplotlib.pyplot as plt\n",
    "import pandas as pd\n",
    "from dotenv import load_dotenv\n",
    "\n",
    "from phmlondon.snow_utils import SnowflakeConnection\n",
    "\n",
    "pd.set_option(\"display.max_rows\", 200)\n",
    "pd.set_option(\"display.max_columns\", 100)"
   ]
  },
  {
   "cell_type": "markdown",
   "metadata": {},
   "source": [
    "## CONFIG and FUNCTIONS"
   ]
  },
  {
   "cell_type": "code",
   "execution_count": 22,
   "metadata": {},
   "outputs": [],
   "source": [
    "def get_top_n_classes(df, column_name, n=10):\n",
    "    \"\"\"\n",
    "    Get the top n most frequent values in a specified column of the dataframe.\n",
    "\n",
    "    Args:\n",
    "        df (pd.DataFrame): The dataframe containing the data.\n",
    "        column_name (str): The name of the column to analyze.\n",
    "        n (int): The number of top values to return. Default is 10.\n",
    "\n",
    "    Returns:\n",
    "        pd.Series: A series containing the top n most frequent values and their counts.\n",
    "    \"\"\"\n",
    "    return df[column_name].value_counts().head(n)\n",
    "\n",
    "def plot_top_classes(class_counts):\n",
    "    \"\"\"\n",
    "    Plot the top classes in a bar graph.\n",
    "\n",
    "    Args:\n",
    "        class_counts (pd.Series): A series containing the class counts.\n",
    "    \"\"\"\n",
    "    plt.figure(figsize=(10, 6))\n",
    "    class_counts.plot(kind='bar', color='skyblue')\n",
    "\n",
    "    # Set the title and labels\n",
    "    plt.title('Top 10 Most Frequent Classes', fontsize=16)\n",
    "    plt.xlabel('Class', fontsize=12)\n",
    "    plt.ylabel('Frequency', fontsize=12)\n",
    "\n",
    "    # Rotate x-axis labels for readability\n",
    "    plt.xticks(rotation=45, ha='right')\n",
    "\n",
    "    # Adjust layout to fit everything\n",
    "    plt.tight_layout()\n",
    "\n",
    "    # Display the plot\n",
    "    plt.show()"
   ]
  },
  {
   "cell_type": "markdown",
   "metadata": {},
   "source": [
    "## DATA"
   ]
  },
  {
   "cell_type": "code",
   "execution_count": 23,
   "metadata": {},
   "outputs": [],
   "source": [
    "def get_data(snowsesh):\n",
    "    \"\"\"\n",
    "    Retrieves dataset\n",
    "\n",
    "    Args:\n",
    "        snowsesh:\n",
    "            Snowflake session\n",
    "\n",
    "\n",
    "    Returns:\n",
    "        DataFrame containing\n",
    "    \"\"\"\n",
    "    query = \"\"\"\n",
    "    SELECT * FROM intelligence_dev.ai_centre_dev.comp_pdc_duration\n",
    "    LIMIT 10000\n",
    "    \"\"\"\n",
    "    try:\n",
    "        df = snowsesh.execute_query_to_df(query)\n",
    "        print(f\"Retreived columns: {df.columns}\")\n",
    "        return df\n",
    "    except Exception as e:\n",
    "        print(f\"Error retrieving modeling data: {e}\")\n",
    "        raise e\n",
    "\n",
    "def generate_query_with_class_filter(top_classes):\n",
    "    \"\"\"\n",
    "    Generate SQL query with a WHERE condition filtering by the top 3 classes.\n",
    "\n",
    "    Args:\n",
    "        top_classes (pd.Series): The top 3 classes to filter the query by.\n",
    "\n",
    "    Returns:\n",
    "        str: The SQL query with the appropriate WHERE condition.\n",
    "    \"\"\"\n",
    "    # Create the WHERE condition with the top classes\n",
    "    classes_condition = \", \".join(f\"'{cls}'\" for cls in top_classes.index)\n",
    "    query = f\"\"\"\n",
    "    SELECT * FROM intelligence_dev.ai_centre_dev.comp_pdc_duration\n",
    "    WHERE CLASS IN ({classes_condition})\n",
    "    \"\"\"\n",
    "    return query"
   ]
  },
  {
   "cell_type": "markdown",
   "metadata": {},
   "source": [
    "## SUMMARY STATS"
   ]
  },
  {
   "cell_type": "markdown",
   "metadata": {},
   "source": [
    "## REGRESSION and ANALYSIS"
   ]
  },
  {
   "cell_type": "markdown",
   "metadata": {},
   "source": [
    "## PIPELINE"
   ]
  },
  {
   "cell_type": "code",
   "execution_count": 24,
   "metadata": {},
   "outputs": [
    {
     "name": "stdout",
     "output_type": "stream",
     "text": [
      "Initiating login request with your identity provider. A browser window should have opened for you to complete the login. If you can't see it, check existing browser windows, or your OS settings. Press CTRL+C to abort and try again...\n",
      "Going to open: https://login.microsoftonline.com/8076439c-5b1f-4e15-91ea-a0bff0b3bf16/saml2?SAMLRequest=nZJbb6MwEIX%2FCvI%2BAzYhNytJlUurZbfZooRWq31zYEisgE1sU9L%2B%2BjUkkboP7cO%2BWfaZ%2BY7nzOTuXBbOKyjNpZgi4mHkgEhlxsV%2Bip6TB3eEHG2YyFghBUzRG2h0N5toVhYVndfmIDZwqkEbxzYSmrYPU1QrQSXTXFPBStDUpHQ7Xz%2FSwMOUaQ3KWBy6lmSaW9bBmIr6ftM0XtPzpNr7AcbYx2PfqlrJN%2FQBUX3NqJQ0MpXFreRs%2F%2FQJgvg4bBFWYQnxtXDBxWUEX1F2F5Gm35MkduOnbYKc%2Be13Syl0XYLagnrlKTxvHi8GtHWwve8PyGjg1UdXSztDj73XCjwtZJMX7AipLKva2NaePfk5ZH4h99wOLFpNUXXkWbCK1D1sgvCUvahzXa3x7%2Brnj3UaJQs4yPfqaR7GEC1PC5GmyHm5xRu08UZa1xCJNlRjr3DQd3HPxcOEhLQ3pEHfGw3IH%2BSsbKhcMNNV3px3PrySp0pqmRspCi6gcznCw0HYG6duf0dyNwTSd8cEmMvwLs%2FxrrfLycBvowvQZX1oZ0TN%2FmsoE%2F9ji%2Bs6%2FrIJRatYFjx9cx6kKpn5PEDike6GZ27eSSmUjBfzLFOgtQ2yKGSzVMCM3XqjakD%2B7EL9d%2B9nfwE%3D&RelayState=ver%3A1-hint%3A8834765709430-ETMsDgAAAZVxCiflABRBRVMvQ0JDL1BLQ1M1UGFkZGluZwEAABAAEKJJdn3uK1WXe9iCXK5oFrkAAACQAwijAlFzljk0%2Bth4fmSRKblDwtQYNf2bCxmou2T9mqwJYx4ticK5pwVtkrDt6R2GYp5HNw7EhCgFUh2wKGSCtjcueM%2BNA%2BmkC5%2FC2Dvl3qqfeRg6ToEuH1y3u9%2BBMAtD9XA5HNA8Sm40dYUjIktEJcQIf3tspF6bbC4MYrrWz4mCCNyRgeITWwWEQ7K2d58MABRqWnEmkZGqFluyj2L4yDKTkATWPQ%3D%3D to authenticate...\n",
      "Snowflake session created successfully.\n",
      "Using database: INTELLIGENCE_DEV\n",
      "Using schema: AI_CENTRE_FEATURE_STORE\n"
     ]
    }
   ],
   "source": [
    "load_dotenv()\n",
    "\n",
    "snowsesh = SnowflakeConnection()\n",
    "snowsesh.use_database(\"INTELLIGENCE_DEV\")\n",
    "snowsesh.use_schema(\"AI_CENTRE_FEATURE_STORE\")"
   ]
  },
  {
   "cell_type": "markdown",
   "metadata": {},
   "source": [
    "### Table with estimated PD per period. \n",
    "\n",
    "Period is defined by duration threshold.\n",
    "One row per period\n"
   ]
  },
  {
   "cell_type": "code",
   "execution_count": 25,
   "metadata": {},
   "outputs": [
    {
     "name": "stdout",
     "output_type": "stream",
     "text": [
      "Retreived columns: Index(['PERSON_ID', 'PERIOD_ID', 'DRUG', 'CLASS', 'MEDICATION_COMPLIANCE',\n",
      "       'COMPLIANCE_DATE', 'PERIOD_START_DATE', 'PERIOD_END_DATE',\n",
      "       'DURATION_PERIOD', 'ORDER_GAPS', 'DURATION_ORDERS', 'EST_PDC',\n",
      "       'PERIOD_RANK'],\n",
      "      dtype='object')\n"
     ]
    },
    {
     "data": {
      "text/html": [
       "<div>\n",
       "<style scoped>\n",
       "    .dataframe tbody tr th:only-of-type {\n",
       "        vertical-align: middle;\n",
       "    }\n",
       "\n",
       "    .dataframe tbody tr th {\n",
       "        vertical-align: top;\n",
       "    }\n",
       "\n",
       "    .dataframe thead th {\n",
       "        text-align: right;\n",
       "    }\n",
       "</style>\n",
       "<table border=\"1\" class=\"dataframe\">\n",
       "  <thead>\n",
       "    <tr style=\"text-align: right;\">\n",
       "      <th></th>\n",
       "      <th>PERSON_ID</th>\n",
       "      <th>PERIOD_ID</th>\n",
       "      <th>DRUG</th>\n",
       "      <th>CLASS</th>\n",
       "      <th>MEDICATION_COMPLIANCE</th>\n",
       "      <th>COMPLIANCE_DATE</th>\n",
       "      <th>PERIOD_START_DATE</th>\n",
       "      <th>PERIOD_END_DATE</th>\n",
       "      <th>DURATION_PERIOD</th>\n",
       "      <th>ORDER_GAPS</th>\n",
       "      <th>DURATION_ORDERS</th>\n",
       "      <th>EST_PDC</th>\n",
       "      <th>PERIOD_RANK</th>\n",
       "    </tr>\n",
       "  </thead>\n",
       "  <tbody>\n",
       "    <tr>\n",
       "      <th>0</th>\n",
       "      <td>2403967</td>\n",
       "      <td>1</td>\n",
       "      <td>Emollient bath and shower preparations</td>\n",
       "      <td>Emollient bath and shower preparations</td>\n",
       "      <td>good</td>\n",
       "      <td>2022-11-07</td>\n",
       "      <td>2012-05-16</td>\n",
       "      <td>2012-05-16</td>\n",
       "      <td>0</td>\n",
       "      <td>0</td>\n",
       "      <td>0</td>\n",
       "      <td>None</td>\n",
       "      <td>489</td>\n",
       "    </tr>\n",
       "    <tr>\n",
       "      <th>1</th>\n",
       "      <td>2403967</td>\n",
       "      <td>1</td>\n",
       "      <td>Emollient bath and shower preparations</td>\n",
       "      <td>Emollient bath and shower preparations</td>\n",
       "      <td>good</td>\n",
       "      <td>2024-08-16</td>\n",
       "      <td>2012-05-16</td>\n",
       "      <td>2012-05-16</td>\n",
       "      <td>0</td>\n",
       "      <td>0</td>\n",
       "      <td>0</td>\n",
       "      <td>None</td>\n",
       "      <td>489</td>\n",
       "    </tr>\n",
       "    <tr>\n",
       "      <th>2</th>\n",
       "      <td>2403967</td>\n",
       "      <td>2</td>\n",
       "      <td>Emollient bath and shower preparations</td>\n",
       "      <td>Emollient bath and shower preparations</td>\n",
       "      <td>good</td>\n",
       "      <td>2024-08-16</td>\n",
       "      <td>2013-04-22</td>\n",
       "      <td>2013-06-28</td>\n",
       "      <td>67</td>\n",
       "      <td>11</td>\n",
       "      <td>56</td>\n",
       "      <td>0.835821</td>\n",
       "      <td>525</td>\n",
       "    </tr>\n",
       "    <tr>\n",
       "      <th>3</th>\n",
       "      <td>2403967</td>\n",
       "      <td>2</td>\n",
       "      <td>Emollient bath and shower preparations</td>\n",
       "      <td>Emollient bath and shower preparations</td>\n",
       "      <td>good</td>\n",
       "      <td>2022-11-07</td>\n",
       "      <td>2013-04-22</td>\n",
       "      <td>2013-06-28</td>\n",
       "      <td>67</td>\n",
       "      <td>0</td>\n",
       "      <td>67</td>\n",
       "      <td>1.000000</td>\n",
       "      <td>525</td>\n",
       "    </tr>\n",
       "    <tr>\n",
       "      <th>4</th>\n",
       "      <td>2403967</td>\n",
       "      <td>1</td>\n",
       "      <td>Estradiol with progestogen</td>\n",
       "      <td>Oestrogens and Hormone Replacement Therapy</td>\n",
       "      <td>good</td>\n",
       "      <td>2024-08-16</td>\n",
       "      <td>1999-01-21</td>\n",
       "      <td>1999-01-21</td>\n",
       "      <td>0</td>\n",
       "      <td>0</td>\n",
       "      <td>0</td>\n",
       "      <td>None</td>\n",
       "      <td>11</td>\n",
       "    </tr>\n",
       "  </tbody>\n",
       "</table>\n",
       "</div>"
      ],
      "text/plain": [
       "   PERSON_ID  PERIOD_ID                                    DRUG  \\\n",
       "0    2403967          1  Emollient bath and shower preparations   \n",
       "1    2403967          1  Emollient bath and shower preparations   \n",
       "2    2403967          2  Emollient bath and shower preparations   \n",
       "3    2403967          2  Emollient bath and shower preparations   \n",
       "4    2403967          1              Estradiol with progestogen   \n",
       "\n",
       "                                        CLASS MEDICATION_COMPLIANCE  \\\n",
       "0      Emollient bath and shower preparations                  good   \n",
       "1      Emollient bath and shower preparations                  good   \n",
       "2      Emollient bath and shower preparations                  good   \n",
       "3      Emollient bath and shower preparations                  good   \n",
       "4  Oestrogens and Hormone Replacement Therapy                  good   \n",
       "\n",
       "  COMPLIANCE_DATE PERIOD_START_DATE PERIOD_END_DATE  DURATION_PERIOD  \\\n",
       "0      2022-11-07        2012-05-16      2012-05-16                0   \n",
       "1      2024-08-16        2012-05-16      2012-05-16                0   \n",
       "2      2024-08-16        2013-04-22      2013-06-28               67   \n",
       "3      2022-11-07        2013-04-22      2013-06-28               67   \n",
       "4      2024-08-16        1999-01-21      1999-01-21                0   \n",
       "\n",
       "   ORDER_GAPS  DURATION_ORDERS   EST_PDC  PERIOD_RANK  \n",
       "0           0                0      None          489  \n",
       "1           0                0      None          489  \n",
       "2          11               56  0.835821          525  \n",
       "3           0               67  1.000000          525  \n",
       "4           0                0      None           11  "
      ]
     },
     "execution_count": 25,
     "metadata": {},
     "output_type": "execute_result"
    }
   ],
   "source": [
    "df = get_data(snowsesh)\n",
    "df.head()"
   ]
  },
  {
   "cell_type": "code",
   "execution_count": 26,
   "metadata": {},
   "outputs": [
    {
     "name": "stdout",
     "output_type": "stream",
     "text": [
      "Generated SQL Query:\n",
      " \n",
      "    SELECT * FROM intelligence_dev.ai_centre_dev.comp_pdc_duration\n",
      "    WHERE CLASS IN ('Non-opioid analgesics and compound preparations', 'Lipid-regulating drugs', 'Selective beta(2)-agonists')\n",
      "    \n"
     ]
    },
    {
     "ename": "NameError",
     "evalue": "name 'execute_query' is not defined",
     "output_type": "error",
     "traceback": [
      "\u001b[31m---------------------------------------------------------------------------\u001b[39m",
      "\u001b[31mNameError\u001b[39m                                 Traceback (most recent call last)",
      "\u001b[36mCell\u001b[39m\u001b[36m \u001b[39m\u001b[32mIn[26]\u001b[39m\u001b[32m, line 7\u001b[39m\n\u001b[32m      4\u001b[39m query = generate_query_with_class_filter(top_3_classes)\n\u001b[32m      5\u001b[39m \u001b[38;5;28mprint\u001b[39m(\u001b[33m\"\u001b[39m\u001b[33mGenerated SQL Query:\u001b[39m\u001b[38;5;130;01m\\n\u001b[39;00m\u001b[33m\"\u001b[39m, query)\n\u001b[32m----> \u001b[39m\u001b[32m7\u001b[39m result_df = \u001b[43mexecute_query\u001b[49m(snowsesh, query)\n\u001b[32m     10\u001b[39m \u001b[38;5;28mprint\u001b[39m(result_df.head())\n\u001b[32m     12\u001b[39m plot_top_classes(result_df)\n",
      "\u001b[31mNameError\u001b[39m: name 'execute_query' is not defined"
     ]
    }
   ],
   "source": [
    "top_3_classes = get_top_n_classes(df, 'CLASS', n=3)\n",
    "\n",
    "    # Generate the SQL query with the top 3 classes as a filter\n",
    "query = generate_query_with_class_filter(top_3_classes)\n",
    "print(\"Generated SQL Query:\\n\", query)\n",
    "\n",
    "result_df = execute_query(snowsesh, query)\n",
    "\n",
    "    \n",
    "print(result_df.head())\n",
    "\n",
    "plot_top_classes(result_df)"
   ]
  }
 ],
 "metadata": {
  "kernelspec": {
   "display_name": "meds_env",
   "language": "python",
   "name": "python3"
  },
  "language_info": {
   "codemirror_mode": {
    "name": "ipython",
    "version": 3
   },
   "file_extension": ".py",
   "mimetype": "text/x-python",
   "name": "python",
   "nbconvert_exporter": "python",
   "pygments_lexer": "ipython3",
   "version": "3.11.11"
  }
 },
 "nbformat": 4,
 "nbformat_minor": 2
}
