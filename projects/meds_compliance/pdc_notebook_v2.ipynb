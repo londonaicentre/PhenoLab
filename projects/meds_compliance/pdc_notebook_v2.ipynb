{
 "cells": [
  {
   "cell_type": "code",
   "execution_count": 37,
   "metadata": {},
   "outputs": [],
   "source": [
    "import importlib\n",
    "\n",
    "import pdc_functions.assumption_utils as assumptions\n",
    "import pdc_functions.data_utils as data\n",
    "import pdc_functions.explore_utils as explore\n",
    "import pdc_functions.pdc_1and2_utils as pdc\n",
    "import pdc_functions.stats_utils as stats\n",
    "from dotenv import load_dotenv\n",
    "import pdc_functions.class_utils as class_utils\n",
    "\n",
    "\n",
    "\n",
    "\n",
    "importlib.reload(stats)\n",
    "\n",
    "\n",
    "\n",
    "from phmlondon.snow_utils import SnowflakeConnection\n"
   ]
  },
  {
   "cell_type": "code",
   "execution_count": 2,
   "metadata": {},
   "outputs": [
    {
     "name": "stdout",
     "output_type": "stream",
     "text": [
      "Initiating login request with your identity provider. A browser window should have opened for you to complete the login. If you can't see it, check existing browser windows, or your OS settings. Press CTRL+C to abort and try again...\n",
      "Going to open: https://login.microsoftonline.com/8076439c-5b1f-4e15-91ea-a0bff0b3bf16/saml2?SAMLRequest=nZJBj9owEIX%2FSuSekzghyYIFrNKlCCR2iyC0FTfHccAisanH2bD99XUCSNvD7qE3y34z3%2FO8GT9e6sp55RqEkhMUeBg5XDJVCHmYoF02d4fIAUNlQSsl%2BQS9cUCP0zHQujqTtDFHueG%2FGw7GsY0kkO5hghotiaIggEhacyCGkW36vCKhhwkF4NpYHLqVFCAs62jMmfh%2B27ZeO%2FCUPvghxtjHI9%2BqOskX9A5x%2Fpxx1soopqp7ycX%2B6QNE4OOoQ1iFJaxvhV%2BFvI7gM0p%2BFQFZZNnaXX%2FfZshJ7797UhKamust16%2BC8d1mdTUA1sH2W5wEw8RrTi4oO0OP%2Fmk090CqtqzoiTNVnxtjW3v25Je88Ct1EHZgy9kEnU%2BiyH%2BynTldEjimKZ1v2P7XarNo2PPg8rDOZwXbY52N8jwyixNDzo97vGEX7xKg4UvZhWrsFQ5jF0duGGdBSOKEhLE3jEZ75MxsqEJS01fenfc%2BvFowrUCVRslKSN67HOKHJBqMmBvnQelGPIjdUcCpS3Feljgf5GWQ%2BF10IbquD%2BmN6Ol%2FDWXsv29xW8cXm9BytlaVYG%2FOXOmamo8DDLygvxGFW%2FZSwmsqqrQoNAewQVaVap80p8ZuvdENR%2F70Sv1376d%2FAQ%3D%3D&RelayState=ver%3A1-hint%3A8834766860602-ETMsDgAAAZZtBUv5ABRBRVMvQ0JDL1BLQ1M1UGFkZGluZwEAABAAENo4h3JVHgLPI8q0BqNZcvMAAACQ8%2B8BKY8%2B0beWQiemEjOgV7bo8U%2FbTmbkWP9nhJ8DfB%2BzIVjQi%2BUXzSD6KVPwLi3FE1tOd%2BZO%2BEC%2BOqNNfpAGB8P5lDqV4BtffNbv1MbAL0OVRaZaIf699wiqiSIn134T2%2FkFzHDkKMDI%2FY8FP7zORtcvqoatZ2ZbZoX3ioJYQe8iMvwcm35y1ugjv13tUbn9ABR1aevOEuI6gx%2BknCgC1V7aQPiAyw%3D%3D to authenticate...\n",
      "Snowflake session created successfully.\n",
      "Using database: INTELLIGENCE_DEV\n",
      "Using schema: AI_CENTRE_FEATURE_STORE\n"
     ]
    }
   ],
   "source": [
    "load_dotenv()\n",
    "\n",
    "snowsesh = SnowflakeConnection()\n",
    "snowsesh.use_database(\"INTELLIGENCE_DEV\")\n",
    "snowsesh.use_schema(\"AI_CENTRE_FEATURE_STORE\")"
   ]
  },
  {
   "cell_type": "code",
   "execution_count": 3,
   "metadata": {},
   "outputs": [
    {
     "name": "stdout",
     "output_type": "stream",
     "text": [
      "Retrieved 8074910 rows from cohort table: intelligence_dev.ai_centre_dev.compliance_cohort_1yr_top7\n"
     ]
    }
   ],
   "source": [
    "df = data.get_data_by_cohort(snowsesh, \"intelligence_dev.ai_centre_dev.compliance_cohort_1yr_top7\")\n",
    "\n"
   ]
  },
  {
   "cell_type": "code",
   "execution_count": 4,
   "metadata": {},
   "outputs": [],
   "source": [
    "medication_table = class_utils.MedicationTable(df)"
   ]
  },
  {
   "cell_type": "markdown",
   "metadata": {},
   "source": [
    "Run checks on the dataframe using the Medication Table Class functions"
   ]
  },
  {
   "cell_type": "code",
   "execution_count": 5,
   "metadata": {},
   "outputs": [
    {
     "name": "stdout",
     "output_type": "stream",
     "text": [
      "Invalid rows (dose or tablets_per_day issue):\n",
      "Empty DataFrame\n",
      "Columns: [dose, tablets_per_day]\n",
      "Index: []\n",
      "All validations passed successfully!\n"
     ]
    }
   ],
   "source": [
    "medication_table.validate_columns()  # Validate columns\n",
    "medication_table.normalise_missing_values()  # Standardise representation of missing data\n",
    "medication_table.convert_dates()  # Convert date columns\n",
    "medication_table.validate_data_types()  # Validate data types\n",
    "medication_table.clean_dose()  # Clean and interpret the 'dose' column\n",
    "medication_table.calculate_covered_days()\n",
    "\n",
    "print(\"All validations passed successfully!\")"
   ]
  },
  {
   "cell_type": "code",
   "execution_count": 6,
   "metadata": {},
   "outputs": [],
   "source": [
    "pdc_data = pdc.compute_pdc_overall(medication_table.df)\n"
   ]
  },
  {
   "cell_type": "code",
   "execution_count": 7,
   "metadata": {},
   "outputs": [
    {
     "name": "stdout",
     "output_type": "stream",
     "text": [
      "     order_id  person_id  medication_statement_id                drug_name  \\\n",
      "0  1102325986     456338                361607272  Metformin hydrochloride   \n",
      "1  3262543494     456338                361607272  Metformin hydrochloride   \n",
      "2  3365121928     456338                361607272  Metformin hydrochloride   \n",
      "3  3398132582     456338                361607272  Metformin hydrochloride   \n",
      "4  3428901099     456338                361607272  Metformin hydrochloride   \n",
      "\n",
      "                          dose  quantity_value quantity_unit  \\\n",
      "0  Two To Be Taken Twice A Day           224.0        tablet   \n",
      "1  Two To Be Taken Twice A Day           224.0        tablet   \n",
      "2  Two To Be Taken Twice A Day           224.0        tablet   \n",
      "3  Two To Be Taken Twice A Day           224.0        tablet   \n",
      "4  Two To Be Taken Twice A Day           224.0        tablet   \n",
      "\n",
      "          drug_description       class  core_concept_id  ...  \\\n",
      "0  Metformin 500mg tablets  Biguanides          3136770  ...   \n",
      "1  Metformin 500mg tablets  Biguanides          3136770  ...   \n",
      "2  Metformin 500mg tablets  Biguanides          3136770  ...   \n",
      "3  Metformin 500mg tablets  Biguanides          3136770  ...   \n",
      "4  Metformin 500mg tablets  Biguanides          3136770  ...   \n",
      "\n",
      "  medication_compliance  compliance_date  tablets_per_day calculated_duration  \\\n",
      "0                  good       2021-05-26                4                56.0   \n",
      "1                  good       2021-05-26                4                56.0   \n",
      "2                  good       2021-05-26                4                56.0   \n",
      "3                  good       2021-05-26                4                56.0   \n",
      "4                  good       2021-05-26                4                56.0   \n",
      "\n",
      "  order_enddate covered_days overall_inclusive_pdc  overall_exclusive_pdc  \\\n",
      "0    2020-12-31         56.0              2.334641               0.865471   \n",
      "1    2021-02-24         56.0              2.334641               0.865471   \n",
      "2    2021-05-13         56.0              2.334641               0.865471   \n",
      "3    2021-06-11         56.0              2.334641               0.865471   \n",
      "4    2021-07-07         56.0              2.334641               0.865471   \n",
      "\n",
      "   total_covered_days total_exposure_days  \n",
      "0              4165.0                1784  \n",
      "1              4165.0                1784  \n",
      "2              4165.0                1784  \n",
      "3              4165.0                1784  \n",
      "4              4165.0                1784  \n",
      "\n",
      "[5 rows x 25 columns]\n"
     ]
    }
   ],
   "source": [
    "print(pdc_data.head())\n",
    "\n"
   ]
  },
  {
   "cell_type": "code",
   "execution_count": 10,
   "metadata": {},
   "outputs": [],
   "source": [
    "pdc_data_interval = pdc.compute_pdc_intervals(pdc_data)"
   ]
  },
  {
   "cell_type": "code",
   "execution_count": 15,
   "metadata": {},
   "outputs": [
    {
     "name": "stdout",
     "output_type": "stream",
     "text": [
      "Index(['order_id', 'person_id', 'medication_statement_id', 'drug_name', 'dose',\n",
      "       'quantity_value', 'quantity_unit', 'drug_description', 'class',\n",
      "       'core_concept_id', 'order_date', 'duration_days', 'days_to_next_order',\n",
      "       'statement_date', 'statement_enddate', 'medication_compliance',\n",
      "       'compliance_date', 'tablets_per_day', 'calculated_duration',\n",
      "       'order_enddate', 'covered_days', 'overall_inclusive_pdc',\n",
      "       'overall_exclusive_pdc', 'total_covered_days', 'total_exposure_days',\n",
      "       'interval', 'pre_inclusive_pdc', 'pre_exclusive_pdc',\n",
      "       'total_pre_covered_days', 'total_pre_exposure_days',\n",
      "       'post_inclusive_pdc', 'post_exclusive_pdc', 'total_post_covered_days',\n",
      "       'total_post_exposure_days'],\n",
      "      dtype='object')\n"
     ]
    }
   ],
   "source": [
    "print(pdc_data_interval.columns)"
   ]
  },
  {
   "cell_type": "code",
   "execution_count": 19,
   "metadata": {},
   "outputs": [
    {
     "name": "stdout",
     "output_type": "stream",
     "text": [
      "Merged data: 13960669 rows with columns: ['order_id', 'person_id', 'medication_statement_id', 'drug_name', 'dose', 'quantity_value', 'quantity_unit', 'drug_description', 'class', 'core_concept_id', 'order_date', 'duration_days', 'days_to_next_order', 'statement_date', 'statement_enddate', 'medication_compliance', 'compliance_date', 'tablets_per_day', 'calculated_duration', 'order_enddate', 'covered_days', 'overall_inclusive_pdc', 'overall_exclusive_pdc', 'total_covered_days', 'total_exposure_days', 'interval', 'pre_inclusive_pdc', 'pre_exclusive_pdc', 'total_pre_covered_days', 'total_pre_exposure_days', 'post_inclusive_pdc', 'post_exclusive_pdc', 'total_post_covered_days', 'total_post_exposure_days', 'date_of_birth', 'gender', 'ethnicity', 'imd']\n"
     ]
    }
   ],
   "source": [
    "cohort_table = data.add_demographic_data(snowsesh, pdc_data_interval)\n"
   ]
  },
  {
   "cell_type": "code",
   "execution_count": 20,
   "metadata": {},
   "outputs": [],
   "source": [
    "cohort_table_agg = data.agg_data_person_drug(cohort_table)"
   ]
  },
  {
   "cell_type": "code",
   "execution_count": 22,
   "metadata": {},
   "outputs": [
    {
     "name": "stdout",
     "output_type": "stream",
     "text": [
      "                                                                             Grouped by medication_compliance                                                       \n",
      "                                                                                                      Missing         Overall            good           poor P-Value\n",
      "n                                                                                                                      300843          269223          31620        \n",
      "gender, n (%)                       Female                                                                      152959 (50.8)   137852 (51.2)   15107 (47.8)  <0.001\n",
      "                                    Male                                                                        147850 (49.1)   131337 (48.8)   16513 (52.2)        \n",
      "                                    None                                                                              3 (0.0)         3 (0.0)                       \n",
      "                                    Other                                                                             4 (0.0)         4 (0.0)                       \n",
      "                                    Unknown                                                                          27 (0.0)        27 (0.0)                       \n",
      "ethnicity, n (%)                    African                                                                       20352 (6.8)     17063 (6.3)    3289 (10.4)  <0.001\n",
      "                                    Any other Asian background                                                    11155 (3.7)      9532 (3.5)     1623 (5.1)        \n",
      "                                    Any other Black background                                                     7086 (2.4)      5857 (2.2)     1229 (3.9)        \n",
      "                                    Any other White background                                                   30988 (10.3)    27914 (10.4)     3074 (9.7)        \n",
      "                                    Any other ethnic group                                                        10861 (3.6)      9657 (3.6)     1204 (3.8)        \n",
      "                                    Any other mixed background                                                     1737 (0.6)      1512 (0.6)      225 (0.7)        \n",
      "                                    Bangladeshi                                                                  42464 (14.1)    37268 (13.8)    5196 (16.4)        \n",
      "                                    British                                                                     100646 (33.5)    95174 (35.4)    5472 (17.3)        \n",
      "                                    Caribbean                                                                     15094 (5.0)     12523 (4.7)     2571 (8.1)        \n",
      "                                    Chinese                                                                        1724 (0.6)      1624 (0.6)      100 (0.3)        \n",
      "                                    Indian                                                                        25190 (8.4)     22154 (8.2)     3036 (9.6)        \n",
      "                                    Irish                                                                          2909 (1.0)      2676 (1.0)      233 (0.7)        \n",
      "                                    None                                                                           1531 (0.5)      1379 (0.5)      152 (0.5)        \n",
      "                                    Not stated                                                                     2209 (0.7)      1983 (0.7)      226 (0.7)        \n",
      "                                    Pakistani                                                                     23252 (7.7)     19775 (7.3)    3477 (11.0)        \n",
      "                                    White and Asian                                                                 619 (0.2)       555 (0.2)       64 (0.2)        \n",
      "                                    White and Black African                                                        1153 (0.4)       993 (0.4)      160 (0.5)        \n",
      "                                    White and Black Caribbean                                                      1873 (0.6)      1584 (0.6)      289 (0.9)        \n",
      "imd, n (%)                          1.0                                                                            9833 (3.3)      8577 (3.2)     1256 (4.0)  <0.001\n",
      "                                    10.0                                                                           3738 (1.2)      3620 (1.3)      118 (0.4)        \n",
      "                                    2.0                                                                          70270 (23.4)    61436 (22.8)    8834 (27.9)        \n",
      "                                    3.0                                                                          76556 (25.4)    67241 (25.0)    9315 (29.5)        \n",
      "                                    4.0                                                                          44973 (14.9)    40040 (14.9)    4933 (15.6)        \n",
      "                                    5.0                                                                           27737 (9.2)     25112 (9.3)     2625 (8.3)        \n",
      "                                    6.0                                                                           24815 (8.2)     22757 (8.5)     2058 (6.5)        \n",
      "                                    7.0                                                                           16076 (5.3)     15015 (5.6)     1061 (3.4)        \n",
      "                                    8.0                                                                           12385 (4.1)     11810 (4.4)      575 (1.8)        \n",
      "                                    9.0                                                                           10476 (3.5)      9981 (3.7)      495 (1.6)        \n",
      "                                    nan                                                                            3984 (1.3)      3634 (1.3)      350 (1.1)        \n",
      "drug_class, n (%)                   Angiotensin-II receptor antagonists                                           28152 (9.4)     25405 (9.4)     2747 (8.7)  <0.001\n",
      "                                    Angiotensin-converting enzyme inhibitors                                     53634 (17.8)    47567 (17.7)    6067 (19.2)        \n",
      "                                    Antihistamines                                                               31763 (10.6)    28282 (10.5)    3481 (11.0)        \n",
      "                                    Beta-adrenoceptor blocking drugs                                             38476 (12.8)    35488 (13.2)     2988 (9.4)        \n",
      "                                    Biguanides                                                                   38904 (12.9)    33067 (12.3)    5837 (18.5)        \n",
      "                                    Lipid-regulating drugs                                                       31407 (10.4)    27831 (10.3)    3576 (11.3)        \n",
      "                                    Proton pump inhibitors                                                       78507 (26.1)    71583 (26.6)    6924 (21.9)        \n",
      "age_at_start, mean (SD)                                                                                     3     62.2 (15.2)     62.9 (15.1)    56.5 (14.4)  <0.001\n",
      "overall_inclusive_pdc, mean (SD)                                                                           58       1.2 (1.2)       1.2 (1.2)      1.0 (0.8)  <0.001\n",
      "overall_exclusive_pdc, mean (SD)                                                                           58       0.8 (0.2)       0.8 (0.2)      0.7 (0.3)  <0.001\n",
      "total_covered_days, mean (SD)                                                                               0  801.3 (1855.1)  825.4 (1940.2)  596.8 (801.9)  <0.001\n",
      "total_exposed_days, mean (SD)                                                                               0   685.1 (705.9)   683.4 (678.5)  699.5 (906.4)   0.002\n",
      "pre_inclusive_pdc, mean (SD)                                                                            70580       1.4 (3.7)       1.4 (3.9)      1.2 (2.0)  <0.001\n",
      "pre_exclusive_pdc, mean (SD)                                                                            70580       0.8 (0.2)       0.9 (0.2)      0.7 (0.3)  <0.001\n",
      "total_pre_covered_days, mean (SD)                                                                           0   419.5 (998.6)  433.1 (1044.5)  303.1 (428.1)  <0.001\n",
      "total_pre_exposure_days, mean (SD)                                                                          0   414.4 (636.4)   413.3 (613.8)  423.4 (803.4)   0.030\n",
      "post_inclusive_pdc, mean (SD)                                                                           74387       1.4 (2.8)       1.4 (2.9)      1.3 (1.7)  <0.001\n",
      "post_exclusive_pdc, mean (SD)                                                                           74387       0.9 (0.2)       0.9 (0.2)      0.8 (0.3)  <0.001\n",
      "total_post_covered_days, mean (SD)                                                                          0   381.9 (901.6)   392.2 (942.0)  293.7 (412.4)  <0.001\n",
      "total_post_exposure_days, mean (SD)                                                                         0   381.8 (629.2)   377.8 (603.4)  415.0 (815.6)  <0.001\n",
      "\n"
     ]
    }
   ],
   "source": [
    "table_one = explore.get_table_one(cohort_table_agg,\"medication_compliance\")"
   ]
  },
  {
   "cell_type": "markdown",
   "metadata": {},
   "source": [
    "# note about the missingness\n",
    "missingness in pre and post pdc is due to participants being included but not having any orders before or after the compliance status date."
   ]
  },
  {
   "cell_type": "code",
   "execution_count": 23,
   "metadata": {},
   "outputs": [
    {
     "data": {
      "text/plain": [
       "total_exposed_days\n",
       "0    58\n",
       "Name: count, dtype: int64"
      ]
     },
     "execution_count": 23,
     "metadata": {},
     "output_type": "execute_result"
    }
   ],
   "source": [
    "missing_pdc = cohort_table_agg[cohort_table_agg['overall_inclusive_pdc'].isna()]\n",
    "missing_pdc['total_exposed_days'].value_counts(dropna=False)"
   ]
  },
  {
   "cell_type": "code",
   "execution_count": 36,
   "metadata": {},
   "outputs": [
    {
     "name": "stdout",
     "output_type": "stream",
     "text": [
      "Results saved to unadjusted_results.csv\n"
     ]
    },
    {
     "name": "stderr",
     "output_type": "stream",
     "text": [
      "/Users/jsaund/Documents/repos/onelondon_snowflake_datascience/meds_env/lib/python3.11/site-packages/statsmodels/base/model.py:607: ConvergenceWarning: Maximum Likelihood optimization failed to converge. Check mle_retvals\n",
      "  warnings.warn(\"Maximum Likelihood optimization failed to \"\n",
      "/Users/jsaund/Documents/repos/onelondon_snowflake_datascience/meds_env/lib/python3.11/site-packages/pandas/core/internals/blocks.py:393: RuntimeWarning: overflow encountered in exp\n",
      "  result = func(self.values, **kwargs)\n",
      "/Users/jsaund/Documents/repos/onelondon_snowflake_datascience/meds_env/lib/python3.11/site-packages/statsmodels/base/model.py:607: ConvergenceWarning: Maximum Likelihood optimization failed to converge. Check mle_retvals\n",
      "  warnings.warn(\"Maximum Likelihood optimization failed to \"\n",
      "/Users/jsaund/Documents/repos/onelondon_snowflake_datascience/meds_env/lib/python3.11/site-packages/pandas/core/internals/blocks.py:393: RuntimeWarning: overflow encountered in exp\n",
      "  result = func(self.values, **kwargs)\n"
     ]
    },
    {
     "name": "stdout",
     "output_type": "stream",
     "text": [
      "Results saved to adjusted_results.csv\n",
      "Results saved to multilevel_unadjusted_results.csv\n",
      "Results saved to multilevel_adjusted_results.csv\n"
     ]
    }
   ],
   "source": [
    "covariates = ['gender', 'ethnicity', 'imd', 'drug_class', 'age_at_start']\n",
    "stats.fit_and_save_models_for_pdc(cohort_table_agg, outcome_col='medication_compliance',\n",
    "                            pdc_cols=['overall_inclusive_pdc',\n",
    "                                      'overall_exclusive_pdc',\n",
    "                                      'pre_inclusive_pdc',\n",
    "                                      'pre_exclusive_pdc',\n",
    "                                      'post_inclusive_pdc',\n",
    "                                      'post_exclusive_pdc'],\n",
    "                            covariates=covariates,\n",
    "                            cluster_col='person_id')"
   ]
  },
  {
   "cell_type": "code",
   "execution_count": null,
   "metadata": {},
   "outputs": [],
   "source": [
    "stats.unadjusted_logr(cohort_table_agg)\n"
   ]
  },
  {
   "cell_type": "code",
   "execution_count": null,
   "metadata": {},
   "outputs": [],
   "source": [
    "# List of covariates to include in model\n",
    "\n",
    "stats.adjusted_logr(cohort_table_agg, covariates=covariates)\n"
   ]
  },
  {
   "cell_type": "markdown",
   "metadata": {},
   "source": [
    "# Multilevel Logistic regression"
   ]
  },
  {
   "cell_type": "code",
   "execution_count": null,
   "metadata": {},
   "outputs": [],
   "source": [
    "stats.multilevel_unadjusted_logr(cohort_table_agg)"
   ]
  },
  {
   "cell_type": "code",
   "execution_count": null,
   "metadata": {},
   "outputs": [],
   "source": [
    "covariates = ['gender', 'ethnicity', 'imd', 'drug_class', 'age_at_start', 'total_exposed_days']\n",
    "multiadj_model, multiadj_or = stats.multilevel_adjusted_logr(cohort_table_agg, covariates=covariates)"
   ]
  },
  {
   "cell_type": "code",
   "execution_count": null,
   "metadata": {},
   "outputs": [],
   "source": [
    "multiadj_or"
   ]
  },
  {
   "cell_type": "markdown",
   "metadata": {},
   "source": [
    "# check assumptions"
   ]
  },
  {
   "cell_type": "code",
   "execution_count": null,
   "metadata": {},
   "outputs": [],
   "source": [
    "\n",
    "# 1. Linearity check\n",
    "assumptions.check_linearity_log_odds(cohort_table_agg, outcome_col='medication_compliance', continuous_predictors=['dynamic_pdc', 'age_at_start'])"
   ]
  },
  {
   "cell_type": "code",
   "execution_count": null,
   "metadata": {},
   "outputs": [],
   "source": [
    "# 2. Multicollinearity\n",
    "assumptions.check_vif(cohort_table_agg, predictors=['dynamic_pdc', 'age_at_start', 'total_exposed_days'])"
   ]
  },
  {
   "cell_type": "code",
   "execution_count": null,
   "metadata": {},
   "outputs": [],
   "source": [
    "# 3. Within-cluster variation\n",
    "assumptions.check_within_cluster_variation(cohort_table_agg, cluster_col='person_id', outcome_col='medication_compliance')"
   ]
  },
  {
   "cell_type": "code",
   "execution_count": null,
   "metadata": {},
   "outputs": [],
   "source": [
    "# 4. ICC\n",
    "assumptions.estimate_icc(cohort_table_agg, outcome_col='medication_compliance', cluster_col='person_id')"
   ]
  },
  {
   "cell_type": "code",
   "execution_count": null,
   "metadata": {},
   "outputs": [],
   "source": [
    "# 5. Residuals plot\n",
    "# Drop rows with missing values\n",
    "cohort_table_agg_clean = cohort_table_agg.dropna()\n",
    "\n",
    "# Map 'good' to 0 and 'poor' to 1 in the outcome column (this step is applied to the dataframe directly)\n",
    "cohort_table_agg_clean['medication_compliance'] = cohort_table_agg_clean['medication_compliance'].map({'good': 0, 'poor': 1})\n",
    "\n",
    "# Now call the function with the cleaned dataframe and outcome column name as a string\n",
    "assumptions.plot_residuals_vs_fitted(multiadj_model, cohort_table_agg_clean, outcome_col='medication_compliance')"
   ]
  }
 ],
 "metadata": {
  "kernelspec": {
   "display_name": "meds_env",
   "language": "python",
   "name": "python3"
  },
  "language_info": {
   "codemirror_mode": {
    "name": "ipython",
    "version": 3
   },
   "file_extension": ".py",
   "mimetype": "text/x-python",
   "name": "python",
   "nbconvert_exporter": "python",
   "pygments_lexer": "ipython3",
   "version": "3.11.11"
  }
 },
 "nbformat": 4,
 "nbformat_minor": 2
}
