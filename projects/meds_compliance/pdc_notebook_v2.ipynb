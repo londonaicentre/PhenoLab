{
 "cells": [
  {
   "cell_type": "code",
   "execution_count": null,
   "metadata": {},
   "outputs": [],
   "source": [
    "import importlib\n",
    "\n",
    "import pdc_functions.assumption_utils as assumptions\n",
    "import pdc_functions.clean_utils as clean\n",
    "import pdc_functions.data_utils as data\n",
    "import pdc_functions.explore_utils as explore\n",
    "import pdc_functions.pdc_1and2_utils as pdc\n",
    "import pdc_functions.stats_utils as stats\n",
    "from dotenv import load_dotenv\n",
    "import pdc_functions.class_utils as class_utils\n",
    "\n",
    "\n",
    "\n",
    "\n",
    "importlib.reload(class_utils)\n",
    "\n",
    "\n",
    "\n",
    "from phmlondon.snow_utils import SnowflakeConnection\n"
   ]
  },
  {
   "cell_type": "code",
   "execution_count": null,
   "metadata": {},
   "outputs": [],
   "source": [
    "load_dotenv()\n",
    "\n",
    "snowsesh = SnowflakeConnection()\n",
    "snowsesh.use_database(\"INTELLIGENCE_DEV\")\n",
    "snowsesh.use_schema(\"AI_CENTRE_FEATURE_STORE\")"
   ]
  },
  {
   "cell_type": "code",
   "execution_count": null,
   "metadata": {},
   "outputs": [],
   "source": [
    "df = data.get_data_by_cohort(snowsesh, \"intelligence_dev.ai_centre_dev.compliance_cohort_1yr_top7\")\n",
    "\n"
   ]
  },
  {
   "cell_type": "code",
   "execution_count": null,
   "metadata": {},
   "outputs": [],
   "source": [
    "medication_table = class_utils.MedicationTable(df)"
   ]
  },
  {
   "cell_type": "markdown",
   "metadata": {},
   "source": [
    "Run checks on the dataframe using the Medication Table Class functions"
   ]
  },
  {
   "cell_type": "code",
   "execution_count": null,
   "metadata": {},
   "outputs": [],
   "source": [
    "medication_table.validate_columns()  # Validate columns\n",
    "medication_table.normalise_missing_values()  # Standardize representation of missing data\n",
    "medication_table.convert_dates()  # Convert date columns\n",
    "medication_table.validate_data_types()  # Validate data types\n",
    "\n",
    "\n",
    "print(\"All validations passed successfully!\")"
   ]
  },
  {
   "cell_type": "code",
   "execution_count": null,
   "metadata": {},
   "outputs": [],
   "source": [
    "clean_df = clean.clean_dose(medication_table)\n",
    "clean_df['covered_days'] = clean.covered_days(clean_df)\n",
    "print(clean_df.head())"
   ]
  },
  {
   "cell_type": "code",
   "execution_count": null,
   "metadata": {},
   "outputs": [],
   "source": [
    "pdc_data = pdc.compute_pdc_with_overlap(clean_df)\n"
   ]
  },
  {
   "cell_type": "code",
   "execution_count": null,
   "metadata": {},
   "outputs": [],
   "source": [
    "print(pdc_data.head())\n",
    "\n"
   ]
  },
  {
   "cell_type": "code",
   "execution_count": null,
   "metadata": {},
   "outputs": [],
   "source": [
    "cohort_table = data.add_demographic_data(snowsesh, pdc_data)\n"
   ]
  },
  {
   "cell_type": "code",
   "execution_count": null,
   "metadata": {},
   "outputs": [],
   "source": [
    "cohort_table_agg = data.agg_data_person_drug(cohort_table)"
   ]
  },
  {
   "cell_type": "code",
   "execution_count": null,
   "metadata": {},
   "outputs": [],
   "source": [
    "table_one = explore.get_table_one(cohort_table_agg,\"medication_compliance\")"
   ]
  },
  {
   "cell_type": "code",
   "execution_count": null,
   "metadata": {},
   "outputs": [],
   "source": [
    "stats.unadjusted_logr(cohort_table_agg)\n"
   ]
  },
  {
   "cell_type": "code",
   "execution_count": null,
   "metadata": {},
   "outputs": [],
   "source": [
    "# List of covariates to include in model\n",
    "covariates = ['gender', 'ethnicity', 'imd', 'drug_class', 'age_at_start', 'total_exposed_days']\n",
    "stats.adjusted_logr(cohort_table_agg, covariates=covariates)\n"
   ]
  },
  {
   "cell_type": "markdown",
   "metadata": {},
   "source": [
    "# Multilevel Logistic regression"
   ]
  },
  {
   "cell_type": "code",
   "execution_count": null,
   "metadata": {},
   "outputs": [],
   "source": [
    "stats.multilevel_unadjusted_logr(cohort_table_agg)"
   ]
  },
  {
   "cell_type": "code",
   "execution_count": null,
   "metadata": {},
   "outputs": [],
   "source": [
    "covariates = ['gender', 'ethnicity', 'imd', 'drug_class', 'age_at_start', 'total_exposed_days']\n",
    "multiadj_model, multiadj_or = stats.multilevel_adjusted_logr(cohort_table_agg, covariates=covariates)"
   ]
  },
  {
   "cell_type": "code",
   "execution_count": null,
   "metadata": {},
   "outputs": [],
   "source": [
    "multiadj_or"
   ]
  },
  {
   "cell_type": "markdown",
   "metadata": {},
   "source": [
    "# check assumptions"
   ]
  },
  {
   "cell_type": "code",
   "execution_count": null,
   "metadata": {},
   "outputs": [],
   "source": [
    "\n",
    "# 1. Linearity check\n",
    "assumptions.check_linearity_log_odds(cohort_table_agg, outcome_col='medication_compliance', continuous_predictors=['dynamic_pdc', 'age_at_start'])"
   ]
  },
  {
   "cell_type": "code",
   "execution_count": null,
   "metadata": {},
   "outputs": [],
   "source": [
    "# 2. Multicollinearity\n",
    "assumptions.check_vif(cohort_table_agg, predictors=['dynamic_pdc', 'age_at_start', 'total_exposed_days'])"
   ]
  },
  {
   "cell_type": "code",
   "execution_count": null,
   "metadata": {},
   "outputs": [],
   "source": [
    "# 3. Within-cluster variation\n",
    "assumptions.check_within_cluster_variation(cohort_table_agg, cluster_col='person_id', outcome_col='medication_compliance')"
   ]
  },
  {
   "cell_type": "code",
   "execution_count": null,
   "metadata": {},
   "outputs": [],
   "source": [
    "# 4. ICC\n",
    "assumptions.estimate_icc(cohort_table_agg, outcome_col='medication_compliance', cluster_col='person_id')"
   ]
  },
  {
   "cell_type": "code",
   "execution_count": null,
   "metadata": {},
   "outputs": [],
   "source": [
    "# 5. Residuals plot\n",
    "# Drop rows with missing values\n",
    "cohort_table_agg_clean = cohort_table_agg.dropna()\n",
    "\n",
    "# Map 'good' to 0 and 'poor' to 1 in the outcome column (this step is applied to the dataframe directly)\n",
    "cohort_table_agg_clean['medication_compliance'] = cohort_table_agg_clean['medication_compliance'].map({'good': 0, 'poor': 1})\n",
    "\n",
    "# Now call the function with the cleaned dataframe and outcome column name as a string\n",
    "assumptions.plot_residuals_vs_fitted(multiadj_model, cohort_table_agg_clean, outcome_col='medication_compliance')"
   ]
  }
 ],
 "metadata": {
  "kernelspec": {
   "display_name": "meds_env",
   "language": "python",
   "name": "python3"
  },
  "language_info": {
   "codemirror_mode": {
    "name": "ipython",
    "version": 3
   },
   "file_extension": ".py",
   "mimetype": "text/x-python",
   "name": "python",
   "nbconvert_exporter": "python",
   "pygments_lexer": "ipython3",
   "version": "3.11.11"
  }
 },
 "nbformat": 4,
 "nbformat_minor": 2
}
