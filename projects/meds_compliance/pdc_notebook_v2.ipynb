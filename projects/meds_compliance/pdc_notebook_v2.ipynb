{
 "cells": [
  {
   "cell_type": "code",
   "execution_count": null,
   "metadata": {},
   "outputs": [],
   "source": [
    "import importlib\n",
    "\n",
    "import pdc_functions.assumption_utils as assumptions\n",
    "import pdc_functions.class_utils as class_utils\n",
    "import pdc_functions.data_utils as data\n",
    "import pdc_functions.explore_utils as explore\n",
    "import pdc_functions.pdc_1and2_utils as pdc\n",
    "import pdc_functions.stats_utils as stats\n",
    "from dotenv import load_dotenv\n",
    "\n",
    "from phmlondon.snow_utils import SnowflakeConnection\n"
   ]
  },
  {
   "cell_type": "code",
   "execution_count": null,
   "metadata": {},
   "outputs": [],
   "source": [
    "importlib.reload(assumptions)"
   ]
  },
  {
   "cell_type": "code",
   "execution_count": null,
   "metadata": {},
   "outputs": [],
   "source": [
    "load_dotenv()\n",
    "\n",
    "snowsesh = SnowflakeConnection()\n",
    "snowsesh.use_database(\"INTELLIGENCE_DEV\")\n",
    "snowsesh.use_schema(\"AI_CENTRE_FEATURE_STORE\")"
   ]
  },
  {
   "cell_type": "code",
   "execution_count": null,
   "metadata": {},
   "outputs": [],
   "source": [
    "df = data.get_data_by_cohort(snowsesh, \"intelligence_dev.ai_centre_dev.compliance_cohort_1yr_top7\")\n",
    "\n"
   ]
  },
  {
   "cell_type": "code",
   "execution_count": null,
   "metadata": {},
   "outputs": [],
   "source": [
    "medication_table = class_utils.MedicationTable(df)"
   ]
  },
  {
   "cell_type": "markdown",
   "metadata": {},
   "source": [
    "Run checks on the dataframe using the Medication Table Class functions"
   ]
  },
  {
   "cell_type": "code",
   "execution_count": null,
   "metadata": {},
   "outputs": [],
   "source": [
    "medication_table.validate_columns()  # Validate columns\n",
    "medication_table.normalise_missing_values()  # Standardise representation of missing data\n",
    "medication_table.convert_dates()  # Convert date columns\n",
    "medication_table.validate_data_types()  # Validate data types\n",
    "medication_table.clean_dose()  # Clean and interpret the 'dose' column\n",
    "medication_table.calculate_covered_days()\n",
    "\n",
    "print(\"All validations passed successfully!\")"
   ]
  },
  {
   "cell_type": "code",
   "execution_count": null,
   "metadata": {},
   "outputs": [],
   "source": [
    "pdc_data = pdc.compute_pdc_overall(medication_table.df)\n"
   ]
  },
  {
   "cell_type": "code",
   "execution_count": null,
   "metadata": {},
   "outputs": [],
   "source": [
    "print(pdc_data.head())\n",
    "\n"
   ]
  },
  {
   "cell_type": "code",
   "execution_count": null,
   "metadata": {},
   "outputs": [],
   "source": [
    "pdc_data_interval = pdc.compute_pdc_intervals(pdc_data)"
   ]
  },
  {
   "cell_type": "code",
   "execution_count": null,
   "metadata": {},
   "outputs": [],
   "source": [
    "print(pdc_data_interval.columns)"
   ]
  },
  {
   "cell_type": "code",
   "execution_count": null,
   "metadata": {},
   "outputs": [],
   "source": [
    "cohort_table = data.add_demographic_data(snowsesh, pdc_data_interval)\n"
   ]
  },
  {
   "cell_type": "code",
   "execution_count": null,
   "metadata": {},
   "outputs": [],
   "source": [
    "cohort_table_agg = data.agg_data_person_drug(cohort_table)"
   ]
  },
  {
   "cell_type": "code",
   "execution_count": null,
   "metadata": {},
   "outputs": [],
   "source": [
    "table_one = explore.get_table_one(cohort_table_agg,\"medication_compliance\")"
   ]
  },
  {
   "cell_type": "markdown",
   "metadata": {},
   "source": [
    "# note about the missingness\n",
    "missingness in pre and post pdc is due to participants being included but not having any orders before or after the compliance status date."
   ]
  },
  {
   "cell_type": "code",
   "execution_count": null,
   "metadata": {},
   "outputs": [],
   "source": [
    "missing_pdc = cohort_table_agg[cohort_table_agg['overall_inclusive_pdc'].isna()]\n",
    "missing_pdc['total_exposed_days'].value_counts(dropna=False)"
   ]
  },
  {
   "cell_type": "markdown",
   "metadata": {},
   "source": [
    "Bug fixing"
   ]
  },
  {
   "cell_type": "code",
   "execution_count": null,
   "metadata": {},
   "outputs": [],
   "source": [
    "cohort_table_agg[['overall_inclusive_pdc', 'age_at_start', 'imd']].corr()"
   ]
  },
  {
   "cell_type": "code",
   "execution_count": null,
   "metadata": {},
   "outputs": [],
   "source": [
    "for col in ['gender', 'ethnicity', 'imd', 'drug_class']:\n",
    "    print(f\"\\nColumn: {col}\")\n",
    "    print(cohort_table_agg[col].value_counts(dropna=False))"
   ]
  },
  {
   "cell_type": "code",
   "execution_count": null,
   "metadata": {},
   "outputs": [],
   "source": [
    "covariates_to_clean = ['gender', 'ethnicity', 'imd', 'drug_class', 'age_at_start' , 'total_pre_exposure_days', 'total_post_exposure_days']\n",
    "analysis_df = stats.prep_for_regression(cohort_table_agg, outcome_col='medication_compliance',\n",
    "                            predictor_col=['overall_inclusive_pdc',\n",
    "                                      'overall_exclusive_pdc',\n",
    "                                      'pre_inclusive_pdc',\n",
    "                                      'pre_exclusive_pdc',\n",
    "                                      'post_inclusive_pdc',\n",
    "                                      'post_exclusive_pdc'],\n",
    "                            covariates=covariates_to_clean,\n",
    "                            cluster_col='person_id')"
   ]
  },
  {
   "cell_type": "markdown",
   "metadata": {},
   "source": [
    "Running multiples models. Each model ran multiple time foe the multiple PDC outcomes."
   ]
  },
  {
   "cell_type": "code",
   "execution_count": null,
   "metadata": {},
   "outputs": [],
   "source": [
    "covariates_to_fit = ['gender', 'ethnicity', 'imd', 'drug_class', 'age_at_start']\n",
    "models = stats.fit_and_save_models_for_pdc(analysis_df, outcome_col='outcome_binary',\n",
    "                            pdc_cols=['overall_inclusive_pdc',\n",
    "                                      'overall_exclusive_pdc',\n",
    "                                      'pre_inclusive_pdc',\n",
    "                                      'pre_exclusive_pdc',\n",
    "                                      'post_inclusive_pdc',\n",
    "                                      'post_exclusive_pdc'],\n",
    "                            covariates=covariates_to_fit,\n",
    "                            cluster_col='person_id')"
   ]
  },
  {
   "cell_type": "code",
   "execution_count": null,
   "metadata": {},
   "outputs": [],
   "source": [
    "multiadj_model = models['multilevel_adjusted_pre_exclusive_pdc']\n",
    "print(f\"Original df shape: {analysis_df.shape}\")\n",
    "print(f\"Rows used in model fitting: {len(multiadj_model.model.data.row_labels)}\")\n",
    "print(f\"Difference (dropped rows): {analysis_df.shape[0] - len(multiadj_model.model.data.row_labels)}\")"
   ]
  },
  {
   "cell_type": "markdown",
   "metadata": {},
   "source": [
    "# check assumptions"
   ]
  },
  {
   "cell_type": "code",
   "execution_count": null,
   "metadata": {},
   "outputs": [],
   "source": [
    "\n",
    "# 1. Linearity check\n",
    "assumptions.check_linearity_log_odds(cohort_table_agg, outcome_col='medication_compliance', continuous_predictors=['pre_exclusive_pdc', 'age_at_start'])"
   ]
  },
  {
   "cell_type": "code",
   "execution_count": null,
   "metadata": {},
   "outputs": [],
   "source": [
    "# 2. Multicollinearity\n",
    "assumptions.check_vif(cohort_table_agg, predictors=['pre_exclusive_pdc', 'age_at_start', 'total_exposed_days'])"
   ]
  },
  {
   "cell_type": "code",
   "execution_count": null,
   "metadata": {},
   "outputs": [],
   "source": [
    "# 3. Within-cluster variation\n",
    "assumptions.check_within_cluster_variation(cohort_table_agg, cluster_col='person_id', outcome_col='medication_compliance')"
   ]
  },
  {
   "cell_type": "code",
   "execution_count": null,
   "metadata": {},
   "outputs": [],
   "source": [
    "# 4. ICC\n",
    "assumptions.estimate_icc(cohort_table_agg, outcome_col='medication_compliance', cluster_col='person_id')"
   ]
  },
  {
   "cell_type": "code",
   "execution_count": null,
   "metadata": {},
   "outputs": [],
   "source": [
    "print(analysis_df.head())"
   ]
  },
  {
   "cell_type": "code",
   "execution_count": null,
   "metadata": {},
   "outputs": [],
   "source": [
    "# 5. Residuals plot\n",
    "fitted_data = multiadj_model.model.data.frame\n",
    "\n",
    "assumptions.plot_residuals_vs_fitted(multiadj_model, fitted_data, outcome_col = 'outcome_binary')"
   ]
  }
 ],
 "metadata": {
  "kernelspec": {
   "display_name": "meds_env",
   "language": "python",
   "name": "python3"
  },
  "language_info": {
   "codemirror_mode": {
    "name": "ipython",
    "version": 3
   },
   "file_extension": ".py",
   "mimetype": "text/x-python",
   "name": "python",
   "nbconvert_exporter": "python",
   "pygments_lexer": "ipython3",
   "version": "3.11.11"
  }
 },
 "nbformat": 4,
 "nbformat_minor": 2
}
