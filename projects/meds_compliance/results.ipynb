{
 "cells": [
  {
   "cell_type": "markdown",
   "id": "a16e109a",
   "metadata": {},
   "source": [
    "Collation of results so far, with some basic plots"
   ]
  },
  {
   "cell_type": "code",
   "execution_count": 4,
   "id": "fc80f2c5",
   "metadata": {},
   "outputs": [],
   "source": [
    "import matplotlib.pyplot as plt\n",
    "import pandas as pd"
   ]
  },
  {
   "cell_type": "code",
   "execution_count": 33,
   "id": "a34a58da",
   "metadata": {},
   "outputs": [],
   "source": [
    "results_status = pd.DataFrame({\n",
    "    'PDC': ['Pre period PDC', 'Post period PDC', 'Overal PDC'],\n",
    "    'OR': [9.31, 5.78, 5.40],\n",
    "    'Lower CI:': [8.61, 5.31, 5.09],\n",
    "    'Upper CI:': [10.07, 6.29, 5.73]\n",
    "})"
   ]
  },
  {
   "cell_type": "code",
   "execution_count": 41,
   "id": "54bee9f4",
   "metadata": {},
   "outputs": [],
   "source": [
    "fig, ax = plt.subplots(figsize=(6, 3))\n",
    "\n",
    "# Plot Odds Ratios with 95% CI error bars\n",
    "ax.errorbar(\n",
    "    results_status['OR'],\n",
    "    results_status['PDC'],\n",
    "    xerr=[\n",
    "        results_status['OR'] - results_status['Lower CI:'],\n",
    "        results_status['Upper CI:'] - results_status['OR']\n",
    "    ],\n",
    "    fmt='o',\n",
    "    color='black',\n",
    "    ecolor='gray',\n",
    "    capsize=4\n",
    ")\n",
    "\n",
    "# Reference line at OR = 1 (null effect)\n",
    "ax.axvline(x=1, color='red', linestyle='--')\n",
    "\n",
    "# Labels and layout\n",
    "ax.set_xlabel(\"Odds Ratio (95% CI)\")\n",
    "#ax.grid(True, which='both', axis='x', linestyle='--', linewidth=0.5)\n",
    "\n",
    "\n",
    "plt.savefig(\"forest_OR.png\", dpi=300, bbox_inches='tight')\n",
    "plt.close()"
   ]
  }
 ],
 "metadata": {
  "kernelspec": {
   "display_name": "meds_env",
   "language": "python",
   "name": "python3"
  },
  "language_info": {
   "codemirror_mode": {
    "name": "ipython",
    "version": 3
   },
   "file_extension": ".py",
   "mimetype": "text/x-python",
   "name": "python",
   "nbconvert_exporter": "python",
   "pygments_lexer": "ipython3",
   "version": "3.11.11"
  }
 },
 "nbformat": 4,
 "nbformat_minor": 5
}
