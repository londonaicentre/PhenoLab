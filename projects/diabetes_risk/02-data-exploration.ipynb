{
 "cells": [
  {
   "cell_type": "markdown",
   "metadata": {},
   "source": [
    "# features:\n",
    "-> patients with diabetes\n",
    "-> ?? active patients only\n",
    "() update create tables\n",
    "(1) HBA1c\n",
    "(2) age\n",
    "(3) IMD\n",
    "(4) gender\n",
    "(5) ethnicity\n",
    "(5) diabetic endpoints - amputation, cardiac disease, retinopathy, ketoacidosis, ESRF, gastroparesis, neuropathy, PVD/circulatory disorder\n",
    "(6) medication - insulin, glp1, sulphonylurea\n",
    "(7) medication compliance"
   ]
  },
  {
   "cell_type": "markdown",
   "metadata": {},
   "source": [
    "definitions made:\n",
    "- non type 1 diabetes\n",
    "- lower limb amputation\n",
    "- MI\n",
    "- stroke\n",
    "- heart failureÍ\n",
    "- retinopathy/eye disease\n",
    "- dka\n",
    "- renal disorder due to T2DM\n",
    "- neuropathy/gastroparesis\n",
    "- PVD\n",
    "- \n",
    "\n",
    "to do:\n",
    "- hba1c\n",
    "- medications"
   ]
  },
  {
   "cell_type": "code",
   "execution_count": 3,
   "metadata": {},
   "outputs": [],
   "source": [
    "from phmlondon.feature_store_manager import FeatureStoreManager\n"
   ]
  },
  {
   "cell_type": "code",
   "execution_count": null,
   "metadata": {},
   "outputs": [],
   "source": []
  }
 ],
 "metadata": {
  "kernelspec": {
   "display_name": ".venv",
   "language": "python",
   "name": "python3"
  },
  "language_info": {
   "codemirror_mode": {
    "name": "ipython",
    "version": 3
   },
   "file_extension": ".py",
   "mimetype": "text/x-python",
   "name": "python",
   "nbconvert_exporter": "python",
   "pygments_lexer": "ipython3",
   "version": "3.11.11"
  }
 },
 "nbformat": 4,
 "nbformat_minor": 2
}
