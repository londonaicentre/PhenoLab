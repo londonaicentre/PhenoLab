{
 "cells": [
  {
   "cell_type": "code",
   "execution_count": 2,
   "metadata": {},
   "outputs": [],
   "source": [
    "%load_ext autoreload\n",
    "%autoreload 2"
   ]
  },
  {
   "cell_type": "code",
   "execution_count": 3,
   "metadata": {},
   "outputs": [],
   "source": [
    "from snowflake.ml.feature_store import FeatureView, Entity, FeatureStore\n",
    "from dotenv import load_dotenv\n",
    "from phmlondon.snow_utils import SnowflakeConnection"
   ]
  },
  {
   "cell_type": "code",
   "execution_count": 4,
   "metadata": {},
   "outputs": [
    {
     "name": "stdout",
     "output_type": "stream",
     "text": [
      "Initiating login request with your identity provider. A browser window should have opened for you to complete the login. If you can't see it, check existing browser windows, or your OS settings. Press CTRL+C to abort and try again...\n",
      "Going to open: https://login.microsoftonline.com/8076439c-5b1f-4e15-91ea-a0bff0b3bf16/saml2?SAMLRequest=nZJPc9owEMW%2Fikc925bMnxoNkCGhaUlJS8B0ptyEvQYNsuRKMg58%2BsoGZtJDcuhNI73d39O%2BHd69FsI7gjZcyREiAUYeyFRlXO5GaJ08%2BjHyjGUyY0JJGKETGHQ3HhpWiJJOKruXS%2FhTgbGeayQNbR5GqNKSKma4oZIVYKhN6WryPKdRgCkzBrR1OHQtyQx3rL21JQ3Duq6DuhMovQsjjHGIB6FTNZJP6A2i%2FJhRamVVqsSt5NX96R0ECXG3QTiFIyyuhfdcXkbwEWV7ERn6LUkW%2FuLnKkHe5Pa7ByVNVYBegT7yFNbL%2BcWAcQ5WX3p9EveD6uAb5WYYsHOlITBS1blgB0hVUVbWtQ7cKcwhC4XacTew2XSEygPPZvFmCvf5%2FIk%2F7dMXlqxhsFx%2FX%2B00PzxvWHH%2Bmh3PETnFv3cvKfJ%2B3eKNmnhnxlQwk02o1l3hqOfjyI%2B6SYQpiWkvDqJOZ4O8qQuVS2bbypvz1kdQ8FQro3KrpOASWpcx%2Ftzvdgap39uS3O8C6fkDAsxneJvneNvZ5qQfNtFF6LI%2BtDWix%2F81lGH4tsV1HX%2B4hGbThRI8PXmPShfMvh8gCUh7wzM%2Fb6UUCsbFJMs0GOOCFELVDxqYdVtvdQUoHF%2Bo%2F%2B79%2BC8%3D&RelayState=ver%3A1-hint%3A8834764582918-ETMsDgAAAZU5nOQ5ABRBRVMvQ0JDL1BLQ1M1UGFkZGluZwEAABAAEH1bsWbC%2FtRKyE%2FAwcq1L08AAACQ69RglNCql62Bsjr6tvLaStRHn9nb0kPnfRuB4MM%2Bvqcj70NeI8g%2FEKqBTcV1kFCM74Bh%2BU%2BYtfimWSZYTCzlPYQdGwChq7f7nHm7GDyMhMxW42KKSMYuT1STjwrTaZ16r7%2Fg4eDTEK15GmDr35ztwBpGnOF90MtqqcU%2B3rw8iBtY3RtXkjUgsbipEJ9RF7hiABSqKmJDtW2TI%2BouPgwZEiUeQ6Ofjg%3D%3D to authenticate...\n",
      "Snowflake session created successfully.\n",
      "Using database: INTELLIGENCE_DEV\n",
      "Using schema: AI_CENTRE_DEV\n"
     ]
    }
   ],
   "source": [
    "load_dotenv()\n",
    "conn = SnowflakeConnection()\n",
    "conn.use_database(\"INTELLIGENCE_DEV\")\n",
    "conn.use_schema(\"AI_CENTRE_DEV\")"
   ]
  },
  {
   "cell_type": "code",
   "execution_count": 5,
   "metadata": {},
   "outputs": [],
   "source": [
    "counts_by_patient = conn.session.sql(\"\"\"\n",
    "select o.patient_id, o.core_concept_id, count(o.core_concept_id) as code_count, current_timestamp() as last_updated\n",
    "from prod_dwh.analyst_primary_care.observation as o\n",
    "group by o.patient_id, o.core_concept_id\n",
    "limit 1000;\n",
    "\"\"\")"
   ]
  },
  {
   "cell_type": "code",
   "execution_count": 6,
   "metadata": {},
   "outputs": [
    {
     "name": "stdout",
     "output_type": "stream",
     "text": [
      "<snowflake.snowpark.dataframe.DataFrame object at 0x15e3e7650>\n"
     ]
    }
   ],
   "source": [
    "print(counts_by_patient)"
   ]
  },
  {
   "cell_type": "code",
   "execution_count": 7,
   "metadata": {},
   "outputs": [],
   "source": [
    "fs = FeatureStore(\n",
    "    session=conn.session,\n",
    "    database=\"INTELLIGENCE_DEV\",\n",
    "    name=\"TEST_FEATURE_STORE_IW\",\n",
    "    default_warehouse=\"INTELLIGENCE_XS\"\n",
    ")"
   ]
  },
  {
   "cell_type": "code",
   "execution_count": 8,
   "metadata": {},
   "outputs": [
    {
     "name": "stdout",
     "output_type": "stream",
     "text": [
      "----------------------------------------------------------------------------------------\n",
      "|\"NAME\"        |\"JOIN_KEYS\"          |\"DESC\"                 |\"OWNER\"                  |\n",
      "----------------------------------------------------------------------------------------\n",
      "|CODES         |[\"CORE_CONCEPT_ID\"]  |snomed clinical codes  |UG_INTELLIGENCE_DEVELOP  |\n",
      "|DOLOCATIONID  |[\"DOLOCATIONID\"]     |Drop off location id.  |UG_INTELLIGENCE_DEVELOP  |\n",
      "|PATIENTS      |[\"PATIENT_ID\"]       |patients               |UG_INTELLIGENCE_DEVELOP  |\n",
      "|TRIP_ID       |[\"TRIP_ID\"]          |Trip id.               |UG_INTELLIGENCE_DEVELOP  |\n",
      "----------------------------------------------------------------------------------------\n",
      "\n"
     ]
    }
   ],
   "source": [
    "fs.list_entities().show()"
   ]
  },
  {
   "cell_type": "code",
   "execution_count": 9,
   "metadata": {},
   "outputs": [
    {
     "name": "stdout",
     "output_type": "stream",
     "text": [
      "Entity(name=PATIENTS, join_keys=['PATIENT_ID'], owner=None, desc=patients)\n",
      "Entity(name=CODES, join_keys=['CORE_CONCEPT_ID'], owner=None, desc=snomed clinical codes)\n"
     ]
    }
   ],
   "source": [
    "entity_patients = Entity(name=\"patients\", join_keys=[\"patient_id\"], desc=\"patients\")\n",
    "entity_codes = Entity(name=\"codes\", join_keys=[\"core_concept_id\"], desc=\"snomed clinical codes\")\n",
    "print(entity_patients)\n",
    "print(entity_codes)"
   ]
  },
  {
   "cell_type": "code",
   "execution_count": 25,
   "metadata": {},
   "outputs": [
    {
     "data": {
      "text/plain": [
       "Entity(name=CODES, join_keys=['CORE_CONCEPT_ID'], owner=UG_INTELLIGENCE_DEVELOP, desc=snomed clinical codes)"
      ]
     },
     "execution_count": 25,
     "metadata": {},
     "output_type": "execute_result"
    }
   ],
   "source": [
    "fs.register_entity(entity_patients)\n",
    "fs.register_entity(entity_codes)"
   ]
  },
  {
   "cell_type": "code",
   "execution_count": 10,
   "metadata": {},
   "outputs": [
    {
     "name": "stdout",
     "output_type": "stream",
     "text": [
      "----------------------------------------------------------------------------------------\n",
      "|\"NAME\"        |\"JOIN_KEYS\"          |\"DESC\"                 |\"OWNER\"                  |\n",
      "----------------------------------------------------------------------------------------\n",
      "|CODES         |[\"CORE_CONCEPT_ID\"]  |snomed clinical codes  |UG_INTELLIGENCE_DEVELOP  |\n",
      "|DOLOCATIONID  |[\"DOLOCATIONID\"]     |Drop off location id.  |UG_INTELLIGENCE_DEVELOP  |\n",
      "|PATIENTS      |[\"PATIENT_ID\"]       |patients               |UG_INTELLIGENCE_DEVELOP  |\n",
      "|TRIP_ID       |[\"TRIP_ID\"]          |Trip id.               |UG_INTELLIGENCE_DEVELOP  |\n",
      "----------------------------------------------------------------------------------------\n",
      "\n"
     ]
    }
   ],
   "source": [
    "fs.list_entities().show()"
   ]
  },
  {
   "cell_type": "code",
   "execution_count": 11,
   "metadata": {},
   "outputs": [],
   "source": [
    "fv = FeatureView(\n",
    "    name=\"counts_by_patient\",\n",
    "    entities=[entity_patients, entity_codes],\n",
    "    feature_df=counts_by_patient,\n",
    "    timestamp_col=\"last_updated\",\n",
    "    refresh_freq=\"7 days\",\n",
    "    desc=\"Counts of a particular code by patient\"   \n",
    ")"
   ]
  },
  {
   "cell_type": "code",
   "execution_count": 30,
   "metadata": {},
   "outputs": [
    {
     "name": "stderr",
     "output_type": "stream",
     "text": [
      "/Users/isobelweinberg/Documents/code/onelondon_snowflake_datascience/.venv/lib/python3.11/site-packages/snowflake/ml/feature_store/feature_store.py:1877: UserWarning: Your pipeline won't be incrementally refreshed due to: \"Change tracking is not supported on queries with LIMIT.\".\n",
      "  self._check_dynamic_table_refresh_mode(feature_view_name)\n"
     ]
    }
   ],
   "source": [
    "registered_fv: FeatureView = fs.register_feature_view(\n",
    "    feature_view = fv,\n",
    "    version = \"1\",\n",
    "    block = True,\n",
    "    overwrite = False,\n",
    ")"
   ]
  }
 ],
 "metadata": {
  "kernelspec": {
   "display_name": ".venv",
   "language": "python",
   "name": "python3"
  },
  "language_info": {
   "codemirror_mode": {
    "name": "ipython",
    "version": 3
   },
   "file_extension": ".py",
   "mimetype": "text/x-python",
   "name": "python",
   "nbconvert_exporter": "python",
   "pygments_lexer": "ipython3",
   "version": "3.11.11"
  }
 },
 "nbformat": 4,
 "nbformat_minor": 2
}
