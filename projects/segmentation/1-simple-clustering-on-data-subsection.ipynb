{
 "cells": [
  {
   "cell_type": "code",
   "execution_count": null,
   "metadata": {},
   "outputs": [],
   "source": [
    "from dotenv import load_dotenv\n",
    "from phmlondon.snow_utils import SnowflakeConnection\n",
    "import numpy as np\n",
    "\n",
    "load_dotenv()\n",
    "conn = SnowflakeConnection()\n",
    "conn.use_database(\"INTELLIGENCE_DEV\")\n",
    "conn.use_schema(\"AI_CENTRE_DEV\")"
   ]
  },
  {
   "cell_type": "markdown",
   "metadata": {},
   "source": [
    "## (1) Exploring clustering of patient codes\n",
    "(limit query to 1000 patients as keeps timing out)"
   ]
  },
  {
   "cell_type": "code",
   "execution_count": null,
   "metadata": {},
   "outputs": [],
   "source": []
  },
  {
   "cell_type": "code",
   "execution_count": null,
   "metadata": {},
   "outputs": [],
   "source": [
    "counts_by_patient = conn.session.sql(\"\"\"\n",
    "select o.patient_id, o.core_concept_id, count(o.core_concept_id) as code_count\n",
    "from prod_dwh.analyst_primary_care.observation as o\n",
    "group by o.patient_id, o.core_concept_id\n",
    "order by code_count desc\n",
    "\"\"\").to_pandas()"
   ]
  },
  {
   "cell_type": "code",
   "execution_count": null,
   "metadata": {},
   "outputs": [],
   "source": [
    "total_num_codes = conn.session.sql(\"\"\"\n",
    "select o.core_concept_id, count(o.core_concept_id) as code_count\n",
    "from prod_dwh.analyst_primary_care.observation as o\n",
    "group by o.core_concept_id\n",
    "order by code_count desc;\n",
    "\"\"\").to_pandas()"
   ]
  },
  {
   "cell_type": "code",
   "execution_count": null,
   "metadata": {},
   "outputs": [],
   "source": [
    "counts_by_patient"
   ]
  },
  {
   "cell_type": "code",
   "execution_count": null,
   "metadata": {},
   "outputs": [],
   "source": [
    "len(counts_by_patient)"
   ]
  },
  {
   "cell_type": "code",
   "execution_count": null,
   "metadata": {},
   "outputs": [],
   "source": [
    "total_num_codes"
   ]
  },
  {
   "cell_type": "code",
   "execution_count": null,
   "metadata": {},
   "outputs": [],
   "source": [
    "# remove any codes where the number of that code in the whole dataset is less than 100\n",
    "valid_codes = total_num_codes.loc[total_num_codes['CODE_COUNT'] >= 100]\n",
    "valid_codes"
   ]
  },
  {
   "cell_type": "code",
   "execution_count": null,
   "metadata": {},
   "outputs": [],
   "source": [
    "counts_by_patient_filtered = counts_by_patient[counts_by_patient['CORE_CONCEPT_ID'].isin(valid_codes['CORE_CONCEPT_ID'])]\n",
    "counts_by_patient_filtered"
   ]
  },
  {
   "cell_type": "code",
   "execution_count": null,
   "metadata": {},
   "outputs": [],
   "source": [
    "len(counts_by_patient_filtered)"
   ]
  },
  {
   "cell_type": "code",
   "execution_count": null,
   "metadata": {},
   "outputs": [],
   "source": [
    "# don't actually know if the above is working"
   ]
  },
  {
   "cell_type": "code",
   "execution_count": null,
   "metadata": {},
   "outputs": [],
   "source": [
    "import matplotlib.pyplot as plt"
   ]
  },
  {
   "cell_type": "code",
   "execution_count": null,
   "metadata": {},
   "outputs": [],
   "source": [
    "plt.hist(counts_by_patient_filtered['CODE_COUNT'], bins=100)\n",
    "plt.show"
   ]
  },
  {
   "cell_type": "code",
   "execution_count": null,
   "metadata": {},
   "outputs": [],
   "source": [
    "# Use log normalisation due to distribution"
   ]
  },
  {
   "cell_type": "code",
   "execution_count": null,
   "metadata": {},
   "outputs": [],
   "source": [
    "import numpy as np"
   ]
  },
  {
   "cell_type": "code",
   "execution_count": null,
   "metadata": {},
   "outputs": [],
   "source": [
    "counts_by_patient_filtered['LOG_CODE_COUNT'] = counts_by_patient_filtered['CODE_COUNT'].apply(lambda x: np.log(x))"
   ]
  },
  {
   "cell_type": "code",
   "execution_count": null,
   "metadata": {},
   "outputs": [],
   "source": [
    "counts_by_patient_filtered.head()"
   ]
  },
  {
   "cell_type": "code",
   "execution_count": null,
   "metadata": {},
   "outputs": [],
   "source": [
    "plt.hist(counts_by_patient_filtered['LOG_CODE_COUNT'], bins=100)\n",
    "plt.show"
   ]
  },
  {
   "cell_type": "code",
   "execution_count": null,
   "metadata": {},
   "outputs": [],
   "source": [
    "from sklearn.decomposition import PCA\n",
    "from sklearn.manifold import TSNE\n",
    "from sklearn.cluster import AgglomerativeClustering\n",
    "from sklearn.neighbors import kneighbors_graph"
   ]
  },
  {
   "cell_type": "code",
   "execution_count": null,
   "metadata": {},
   "outputs": [],
   "source": [
    "counts_by_patient_filtered"
   ]
  },
  {
   "cell_type": "code",
   "execution_count": null,
   "metadata": {},
   "outputs": [],
   "source": [
    "reshaped_data = counts_by_patient_filtered.pivot_table(index='PATIENT_ID', columns='CORE_CONCEPT_ID', values='LOG_CODE_COUNT', fill_value=0)\n",
    "reshaped_data"
   ]
  },
  {
   "cell_type": "code",
   "execution_count": null,
   "metadata": {},
   "outputs": [],
   "source": [
    "per = 200\n",
    "it = 1000\n",
    "metric = 'cosine'\n",
    "pca = PCA(n_components=50)\n",
    "data_pca_sample = pca.fit_transform(reshaped_data)\n",
    "tsne_sample = TSNE(n_components=2, n_jobs=20, perplexity=per, n_iter=it, metric=metric, init ='pca', learning_rate='auto',).fit_transform(data_pca_sample)\n"
   ]
  },
  {
   "cell_type": "code",
   "execution_count": null,
   "metadata": {},
   "outputs": [],
   "source": [
    "n_clusters = 10"
   ]
  },
  {
   "cell_type": "code",
   "execution_count": null,
   "metadata": {},
   "outputs": [],
   "source": [
    "knn_graph = kneighbors_graph(tsne_sample, 100, include_self=False)\n",
    "\n",
    "ward = AgglomerativeClustering(\n",
    "    n_clusters=n_clusters, linkage=\"ward\", connectivity=knn_graph\n",
    ")\n",
    "\n",
    "ward.fit(tsne_sample)"
   ]
  },
  {
   "cell_type": "code",
   "execution_count": null,
   "metadata": {},
   "outputs": [],
   "source": [
    "fig, axs = plt.subplots()\n",
    "axs.scatter(x=tsne_sample[:,0], y=tsne_sample[:,1])\n",
    "bbox_props = dict(boxstyle=\"round\", fc=\"w\", ec=\"0.5\", alpha=0.9)\n",
    "axs.set_title(f\"Clusters = {n_clusters}\")\n",
    "fig.set_size_inches(10, 10)"
   ]
  },
  {
   "cell_type": "code",
   "execution_count": null,
   "metadata": {},
   "outputs": [],
   "source": [
    "fig, axs = plt.subplots()\n",
    "axs.scatter(x=tsne_sample[:,0], y=tsne_sample[:,1], c=ward.labels_, cmap=plt.cm.nipy_spectral)\n",
    "bbox_props = dict(boxstyle=\"round\", fc=\"w\", ec=\"0.5\", alpha=0.9)\n",
    "\n",
    "for x in range(n_clusters):\n",
    "    w = [c == x for c in ward.labels_]\n",
    "    cl = tsne_sample[w,:]\n",
    "    cen = cl.mean(axis=0)\n",
    "    #ax.annotate(x, cen)\n",
    "    axs.text(cen[0], cen[1],str(x), ha=\"center\", va=\"center\", size=20, bbox=bbox_props)\n",
    "axs.set_title(f\"Clusters = {n_clusters}\")\n",
    "fig.set_size_inches(10, 10)"
   ]
  },
  {
   "cell_type": "code",
   "execution_count": null,
   "metadata": {},
   "outputs": [],
   "source": [
    "import pandas as pd"
   ]
  },
  {
   "cell_type": "code",
   "execution_count": null,
   "metadata": {},
   "outputs": [],
   "source": [
    "# find out what the clusters mean\n",
    "labels = ward.labels_\n",
    "print(labels.shape)\n",
    "reshaped_data_reset = reshaped_data.reset_index()\n",
    "clustered_data = pd.DataFrame({'patient_id': reshaped_data_reset['PATIENT_ID'], \"cluster\": labels})\n",
    "clustered_data"
   ]
  },
  {
   "cell_type": "code",
   "execution_count": null,
   "metadata": {},
   "outputs": [],
   "source": [
    "reshaped_data.head()"
   ]
  },
  {
   "cell_type": "code",
   "execution_count": null,
   "metadata": {},
   "outputs": [],
   "source": [
    "most_popular_code = {patient: reshaped_data.loc[patient].idxmax() for patient in reshaped_data.index}"
   ]
  },
  {
   "cell_type": "code",
   "execution_count": null,
   "metadata": {},
   "outputs": [],
   "source": [
    "most_popular_code"
   ]
  },
  {
   "cell_type": "code",
   "execution_count": null,
   "metadata": {},
   "outputs": [],
   "source": [
    "clustered_data['most_popular_code'] = clustered_data['patient_id'].map(most_popular_code)"
   ]
  },
  {
   "cell_type": "code",
   "execution_count": null,
   "metadata": {},
   "outputs": [],
   "source": [
    "clustered_data"
   ]
  },
  {
   "cell_type": "code",
   "execution_count": null,
   "metadata": {},
   "outputs": [],
   "source": [
    "most_popular_code_for_sql = \",\".join(map(str,clustered_data['most_popular_code']))\n",
    "print(most_popular_code_for_sql)\n",
    "\n"
   ]
  },
  {
   "cell_type": "code",
   "execution_count": null,
   "metadata": {},
   "outputs": [],
   "source": [
    "query = f\"\"\"\n",
    "    SELECT DBID, name \n",
    "    FROM prod_dwh.analyst_primary_care.concept \n",
    "    WHERE DBID in ({most_popular_code_for_sql})\n",
    "    \"\"\"\n",
    "\n",
    "most_popular_code_names = conn.session.sql(query).to_pandas()\n",
    "print(most_popular_code_names)"
   ]
  },
  {
   "cell_type": "code",
   "execution_count": null,
   "metadata": {},
   "outputs": [],
   "source": [
    "clustered_data.head()"
   ]
  },
  {
   "cell_type": "code",
   "execution_count": null,
   "metadata": {},
   "outputs": [],
   "source": [
    "names = [most_popular_code_names.loc[most_popular_code_names['DBID'] == code]['NAME'] \n",
    "         for code in clustered_data['most_popular_code']]"
   ]
  },
  {
   "cell_type": "code",
   "execution_count": null,
   "metadata": {},
   "outputs": [],
   "source": [
    "clustered_data['most_popular_code_name'] = names"
   ]
  },
  {
   "cell_type": "code",
   "execution_count": null,
   "metadata": {},
   "outputs": [],
   "source": [
    "for cluster in range(n_clusters):\n",
    "    print(f\"Cluster {cluster}\")\n",
    "    print(clustered_data.loc[clustered_data['cluster'] == cluster, 'most_popular_code_name'])\n",
    "\n",
    "#  clustered_data[clustered_data['cluster'] == 9]"
   ]
  },
  {
   "cell_type": "markdown",
   "metadata": {},
   "source": [
    "(2) Now with larger dataset\n",
    "Try filtering by disease codes only rather than all appointment codes\n",
    "Limit data to only the last 10 years"
   ]
  },
  {
   "cell_type": "code",
   "execution_count": null,
   "metadata": {},
   "outputs": [],
   "source": [
    "counts_by_patient = conn.session.sql(\"\"\"\n",
    "select o.patient_id, o.core_concept_id, count(o.core_concept_id) as code_count, c.name\n",
    "from prod_dwh.analyst_primary_care.observation as o\n",
    "join prod_dwh.analyst_primary_care.concept as c\n",
    "on o.core_concept_id = c.dbid\n",
    "where c.name like '%(disorder)%' \n",
    "and o.clinical_effective_date >= DATEADD(YEAR, -10, CURRENT_DATE)\n",
    "group by o.patient_id, o.core_concept_id, c.name\n",
    "order by code_count desc;\n",
    "\"\"\").to_pandas()"
   ]
  },
  {
   "cell_type": "code",
   "execution_count": null,
   "metadata": {},
   "outputs": [],
   "source": [
    "# Have skipped removing the rare codes this time\n",
    "\n",
    "# Log normalise\n",
    "counts_by_patient['LOG_CODE_COUNT'] = counts_by_patient['CODE_COUNT'].apply(lambda x: np.log(x))"
   ]
  },
  {
   "cell_type": "code",
   "execution_count": null,
   "metadata": {},
   "outputs": [],
   "source": [
    "reshaped_data = counts_by_patient.pivot_table(index='PATIENT_ID', columns='CORE_CONCEPT_ID', values='LOG_CODE_COUNT', fill_value=0)"
   ]
  }
 ],
 "metadata": {
  "kernelspec": {
   "display_name": ".venv",
   "language": "python",
   "name": "python3"
  },
  "language_info": {
   "codemirror_mode": {
    "name": "ipython",
    "version": 3
   },
   "file_extension": ".py",
   "mimetype": "text/x-python",
   "name": "python",
   "nbconvert_exporter": "python",
   "pygments_lexer": "ipython3",
   "version": "3.11.11"
  }
 },
 "nbformat": 4,
 "nbformat_minor": 2
}
